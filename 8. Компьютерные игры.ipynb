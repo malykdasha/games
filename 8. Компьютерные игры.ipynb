{
 "cells": [
  {
   "cell_type": "markdown",
   "id": "85c88cce",
   "metadata": {},
   "source": [
    "# Анализ популярности компьютерных игр"
   ]
  },
  {
   "cell_type": "markdown",
   "id": "3629ecea",
   "metadata": {},
   "source": [
    "Здравствуйте! Мы - сотрудники интернет-магазина «Стримчик», который продаёт по всему миру компьютерные игры. \n",
    "\n",
    "Мы решили провести исследование по данным до 2016 года из открытых источников, чтобы выявить определяющие успешность игры закономерности. \n",
    "\n",
    "Это позволит сделать ставку на потенциально популярный продукт и спланировать рекламные кампании на 2017 год.\n",
    "\n",
    "Все данные взяты из открытых источников: исторические данные о продажах игр, оценки пользователей и экспертов, жанры и платформы (например, Xbox или PlayStation). "
   ]
  },
  {
   "cell_type": "markdown",
   "id": "13d8b872",
   "metadata": {},
   "source": [
    "# 1. Откроем файл с данными и изучим общую информацию\n",
    "Путь к файлу: /datasets/games.csv. \n",
    "\n",
    "\n",
    "\n",
    "\n",
    "\n",
    "\n",
    "### Описание данных\n",
    "Name — название игры\n",
    "\n",
    "Platform — платформа\n",
    "\n",
    "Year_of_Release — год выпуска\n",
    "\n",
    "Genre — жанр игры\n",
    "\n",
    "NA_sales — продажи в Северной Америке (миллионы проданных копий)\n",
    "\n",
    "EU_sales — продажи в Европе (миллионы проданных копий)\n",
    "\n",
    "JP_sales — продажи в Японии (миллионы проданных копий)\n",
    "\n",
    "Other_sales — продажи в других странах (миллионы проданных копий)\n",
    "\n",
    "Critic_Score — оценка критиков (максимум 100)\n",
    "\n",
    "User_Score — оценка пользователей (максимум 10)\n",
    "\n",
    "Rating — рейтинг от организации ESRB. Подходящую возрастную категорию."
   ]
  },
  {
   "cell_type": "code",
   "execution_count": 1,
   "id": "0e39d720",
   "metadata": {},
   "outputs": [],
   "source": [
    "import pandas as pd\n",
    "import seaborn as sns\n",
    "import matplotlib.pyplot as plt\n",
    "import numpy as np\n",
    "from scipy import stats as st"
   ]
  },
  {
   "cell_type": "code",
   "execution_count": 2,
   "id": "2479f902",
   "metadata": {},
   "outputs": [],
   "source": [
    "try:\n",
    "    data = pd.read_csv('/datasets/games.csv')\n",
    "except:\n",
    "    data = pd.read_csv('games.csv')"
   ]
  },
  {
   "cell_type": "code",
   "execution_count": 3,
   "id": "3c86a147",
   "metadata": {},
   "outputs": [
    {
     "data": {
      "text/html": [
       "<div>\n",
       "<style scoped>\n",
       "    .dataframe tbody tr th:only-of-type {\n",
       "        vertical-align: middle;\n",
       "    }\n",
       "\n",
       "    .dataframe tbody tr th {\n",
       "        vertical-align: top;\n",
       "    }\n",
       "\n",
       "    .dataframe thead th {\n",
       "        text-align: right;\n",
       "    }\n",
       "</style>\n",
       "<table border=\"1\" class=\"dataframe\">\n",
       "  <thead>\n",
       "    <tr style=\"text-align: right;\">\n",
       "      <th></th>\n",
       "      <th>Name</th>\n",
       "      <th>Platform</th>\n",
       "      <th>Year_of_Release</th>\n",
       "      <th>Genre</th>\n",
       "      <th>NA_sales</th>\n",
       "      <th>EU_sales</th>\n",
       "      <th>JP_sales</th>\n",
       "      <th>Other_sales</th>\n",
       "      <th>Critic_Score</th>\n",
       "      <th>User_Score</th>\n",
       "      <th>Rating</th>\n",
       "    </tr>\n",
       "  </thead>\n",
       "  <tbody>\n",
       "    <tr>\n",
       "      <th>0</th>\n",
       "      <td>Wii Sports</td>\n",
       "      <td>Wii</td>\n",
       "      <td>2006.0</td>\n",
       "      <td>Sports</td>\n",
       "      <td>41.36</td>\n",
       "      <td>28.96</td>\n",
       "      <td>3.77</td>\n",
       "      <td>8.45</td>\n",
       "      <td>76.0</td>\n",
       "      <td>8</td>\n",
       "      <td>E</td>\n",
       "    </tr>\n",
       "    <tr>\n",
       "      <th>1</th>\n",
       "      <td>Super Mario Bros.</td>\n",
       "      <td>NES</td>\n",
       "      <td>1985.0</td>\n",
       "      <td>Platform</td>\n",
       "      <td>29.08</td>\n",
       "      <td>3.58</td>\n",
       "      <td>6.81</td>\n",
       "      <td>0.77</td>\n",
       "      <td>NaN</td>\n",
       "      <td>NaN</td>\n",
       "      <td>NaN</td>\n",
       "    </tr>\n",
       "    <tr>\n",
       "      <th>2</th>\n",
       "      <td>Mario Kart Wii</td>\n",
       "      <td>Wii</td>\n",
       "      <td>2008.0</td>\n",
       "      <td>Racing</td>\n",
       "      <td>15.68</td>\n",
       "      <td>12.76</td>\n",
       "      <td>3.79</td>\n",
       "      <td>3.29</td>\n",
       "      <td>82.0</td>\n",
       "      <td>8.3</td>\n",
       "      <td>E</td>\n",
       "    </tr>\n",
       "    <tr>\n",
       "      <th>3</th>\n",
       "      <td>Wii Sports Resort</td>\n",
       "      <td>Wii</td>\n",
       "      <td>2009.0</td>\n",
       "      <td>Sports</td>\n",
       "      <td>15.61</td>\n",
       "      <td>10.93</td>\n",
       "      <td>3.28</td>\n",
       "      <td>2.95</td>\n",
       "      <td>80.0</td>\n",
       "      <td>8</td>\n",
       "      <td>E</td>\n",
       "    </tr>\n",
       "    <tr>\n",
       "      <th>4</th>\n",
       "      <td>Pokemon Red/Pokemon Blue</td>\n",
       "      <td>GB</td>\n",
       "      <td>1996.0</td>\n",
       "      <td>Role-Playing</td>\n",
       "      <td>11.27</td>\n",
       "      <td>8.89</td>\n",
       "      <td>10.22</td>\n",
       "      <td>1.00</td>\n",
       "      <td>NaN</td>\n",
       "      <td>NaN</td>\n",
       "      <td>NaN</td>\n",
       "    </tr>\n",
       "    <tr>\n",
       "      <th>5</th>\n",
       "      <td>Tetris</td>\n",
       "      <td>GB</td>\n",
       "      <td>1989.0</td>\n",
       "      <td>Puzzle</td>\n",
       "      <td>23.20</td>\n",
       "      <td>2.26</td>\n",
       "      <td>4.22</td>\n",
       "      <td>0.58</td>\n",
       "      <td>NaN</td>\n",
       "      <td>NaN</td>\n",
       "      <td>NaN</td>\n",
       "    </tr>\n",
       "    <tr>\n",
       "      <th>6</th>\n",
       "      <td>New Super Mario Bros.</td>\n",
       "      <td>DS</td>\n",
       "      <td>2006.0</td>\n",
       "      <td>Platform</td>\n",
       "      <td>11.28</td>\n",
       "      <td>9.14</td>\n",
       "      <td>6.50</td>\n",
       "      <td>2.88</td>\n",
       "      <td>89.0</td>\n",
       "      <td>8.5</td>\n",
       "      <td>E</td>\n",
       "    </tr>\n",
       "    <tr>\n",
       "      <th>7</th>\n",
       "      <td>Wii Play</td>\n",
       "      <td>Wii</td>\n",
       "      <td>2006.0</td>\n",
       "      <td>Misc</td>\n",
       "      <td>13.96</td>\n",
       "      <td>9.18</td>\n",
       "      <td>2.93</td>\n",
       "      <td>2.84</td>\n",
       "      <td>58.0</td>\n",
       "      <td>6.6</td>\n",
       "      <td>E</td>\n",
       "    </tr>\n",
       "    <tr>\n",
       "      <th>8</th>\n",
       "      <td>New Super Mario Bros. Wii</td>\n",
       "      <td>Wii</td>\n",
       "      <td>2009.0</td>\n",
       "      <td>Platform</td>\n",
       "      <td>14.44</td>\n",
       "      <td>6.94</td>\n",
       "      <td>4.70</td>\n",
       "      <td>2.24</td>\n",
       "      <td>87.0</td>\n",
       "      <td>8.4</td>\n",
       "      <td>E</td>\n",
       "    </tr>\n",
       "    <tr>\n",
       "      <th>9</th>\n",
       "      <td>Duck Hunt</td>\n",
       "      <td>NES</td>\n",
       "      <td>1984.0</td>\n",
       "      <td>Shooter</td>\n",
       "      <td>26.93</td>\n",
       "      <td>0.63</td>\n",
       "      <td>0.28</td>\n",
       "      <td>0.47</td>\n",
       "      <td>NaN</td>\n",
       "      <td>NaN</td>\n",
       "      <td>NaN</td>\n",
       "    </tr>\n",
       "  </tbody>\n",
       "</table>\n",
       "</div>"
      ],
      "text/plain": [
       "                        Name Platform  Year_of_Release         Genre  \\\n",
       "0                 Wii Sports      Wii           2006.0        Sports   \n",
       "1          Super Mario Bros.      NES           1985.0      Platform   \n",
       "2             Mario Kart Wii      Wii           2008.0        Racing   \n",
       "3          Wii Sports Resort      Wii           2009.0        Sports   \n",
       "4   Pokemon Red/Pokemon Blue       GB           1996.0  Role-Playing   \n",
       "5                     Tetris       GB           1989.0        Puzzle   \n",
       "6      New Super Mario Bros.       DS           2006.0      Platform   \n",
       "7                   Wii Play      Wii           2006.0          Misc   \n",
       "8  New Super Mario Bros. Wii      Wii           2009.0      Platform   \n",
       "9                  Duck Hunt      NES           1984.0       Shooter   \n",
       "\n",
       "   NA_sales  EU_sales  JP_sales  Other_sales  Critic_Score User_Score Rating  \n",
       "0     41.36     28.96      3.77         8.45          76.0          8      E  \n",
       "1     29.08      3.58      6.81         0.77           NaN        NaN    NaN  \n",
       "2     15.68     12.76      3.79         3.29          82.0        8.3      E  \n",
       "3     15.61     10.93      3.28         2.95          80.0          8      E  \n",
       "4     11.27      8.89     10.22         1.00           NaN        NaN    NaN  \n",
       "5     23.20      2.26      4.22         0.58           NaN        NaN    NaN  \n",
       "6     11.28      9.14      6.50         2.88          89.0        8.5      E  \n",
       "7     13.96      9.18      2.93         2.84          58.0        6.6      E  \n",
       "8     14.44      6.94      4.70         2.24          87.0        8.4      E  \n",
       "9     26.93      0.63      0.28         0.47           NaN        NaN    NaN  "
      ]
     },
     "execution_count": 3,
     "metadata": {},
     "output_type": "execute_result"
    }
   ],
   "source": [
    "data.head(10)"
   ]
  },
  {
   "cell_type": "code",
   "execution_count": 4,
   "id": "2a383f47",
   "metadata": {},
   "outputs": [
    {
     "name": "stdout",
     "output_type": "stream",
     "text": [
      "<class 'pandas.core.frame.DataFrame'>\n",
      "RangeIndex: 16715 entries, 0 to 16714\n",
      "Data columns (total 11 columns):\n",
      " #   Column           Non-Null Count  Dtype  \n",
      "---  ------           --------------  -----  \n",
      " 0   Name             16713 non-null  object \n",
      " 1   Platform         16715 non-null  object \n",
      " 2   Year_of_Release  16446 non-null  float64\n",
      " 3   Genre            16713 non-null  object \n",
      " 4   NA_sales         16715 non-null  float64\n",
      " 5   EU_sales         16715 non-null  float64\n",
      " 6   JP_sales         16715 non-null  float64\n",
      " 7   Other_sales      16715 non-null  float64\n",
      " 8   Critic_Score     8137 non-null   float64\n",
      " 9   User_Score       10014 non-null  object \n",
      " 10  Rating           9949 non-null   object \n",
      "dtypes: float64(6), object(5)\n",
      "memory usage: 1.4+ MB\n"
     ]
    }
   ],
   "source": [
    "data.info()"
   ]
  },
  {
   "cell_type": "code",
   "execution_count": 5,
   "id": "21815b13",
   "metadata": {
    "scrolled": false
   },
   "outputs": [
    {
     "data": {
      "image/png": "[encoded data removed]",
      "text/plain": [
       "<Figure size 1440x1440 with 6 Axes>"
      ]
     },
     "metadata": {
      "needs_background": "light"
     },
     "output_type": "display_data"
    }
   ],
   "source": [
    "data.hist(figsize=(20,20), bins=30)\n",
    "plt.show()"
   ]
  },
  {
   "cell_type": "markdown",
   "id": "039a18a1",
   "metadata": {},
   "source": [
    "**Вывод:**\n",
    "\n",
    "При первичном знакомстве с данными обнаружены следующие проблемы:\n",
    "\n",
    "* Названия столбцов не соответствуют общеприятым (начинаются с прописных букв)\n",
    "* Столбцы Year_of_Release, User_Score имеют неправильный тип данных\n",
    "* В столбцах Name, Year_of_Release, Genre, Critic_Score, User_Score, Rating есть пропуски\n",
    "\n",
    "По гистограммам для каждого из столбцов можно увидеть распределение данных.\n",
    "\n",
    "* Игры, присутствующие в датасете, были выпущены в период с 1980 по 2016 годы. Больше всего игр выпустили в 2010 году.\n",
    "* Количество проданных копий в разных регионах имеют схожие распределения: пик рядом с нулём, то есть большая часть данных это 1-2 млн проданных копий. \n",
    "* Оценки критиков лежат в пределах 0-100. Большая часть находится в промежутке от 50 до 90."
   ]
  },
  {
   "cell_type": "markdown",
   "id": "cafd8181",
   "metadata": {},
   "source": [
    "# 2. Подготовим данные\n",
    "### Заменим названия столбцов (приведём к нижнему регистру);\n"
   ]
  },
  {
   "cell_type": "code",
   "execution_count": 6,
   "id": "00d11495",
   "metadata": {
    "scrolled": false
   },
   "outputs": [
    {
     "data": {
      "text/html": [
       "<div>\n",
       "<style scoped>\n",
       "    .dataframe tbody tr th:only-of-type {\n",
       "        vertical-align: middle;\n",
       "    }\n",
       "\n",
       "    .dataframe tbody tr th {\n",
       "        vertical-align: top;\n",
       "    }\n",
       "\n",
       "    .dataframe thead th {\n",
       "        text-align: right;\n",
       "    }\n",
       "</style>\n",
       "<table border=\"1\" class=\"dataframe\">\n",
       "  <thead>\n",
       "    <tr style=\"text-align: right;\">\n",
       "      <th></th>\n",
       "      <th>name</th>\n",
       "      <th>platform</th>\n",
       "      <th>year_of_release</th>\n",
       "      <th>genre</th>\n",
       "      <th>na_sales</th>\n",
       "      <th>eu_sales</th>\n",
       "      <th>jp_sales</th>\n",
       "      <th>other_sales</th>\n",
       "      <th>critic_score</th>\n",
       "      <th>user_score</th>\n",
       "      <th>rating</th>\n",
       "    </tr>\n",
       "  </thead>\n",
       "  <tbody>\n",
       "    <tr>\n",
       "      <th>0</th>\n",
       "      <td>Wii Sports</td>\n",
       "      <td>Wii</td>\n",
       "      <td>2006.0</td>\n",
       "      <td>Sports</td>\n",
       "      <td>41.36</td>\n",
       "      <td>28.96</td>\n",
       "      <td>3.77</td>\n",
       "      <td>8.45</td>\n",
       "      <td>76.0</td>\n",
       "      <td>8</td>\n",
       "      <td>E</td>\n",
       "    </tr>\n",
       "    <tr>\n",
       "      <th>1</th>\n",
       "      <td>Super Mario Bros.</td>\n",
       "      <td>NES</td>\n",
       "      <td>1985.0</td>\n",
       "      <td>Platform</td>\n",
       "      <td>29.08</td>\n",
       "      <td>3.58</td>\n",
       "      <td>6.81</td>\n",
       "      <td>0.77</td>\n",
       "      <td>NaN</td>\n",
       "      <td>NaN</td>\n",
       "      <td>NaN</td>\n",
       "    </tr>\n",
       "    <tr>\n",
       "      <th>2</th>\n",
       "      <td>Mario Kart Wii</td>\n",
       "      <td>Wii</td>\n",
       "      <td>2008.0</td>\n",
       "      <td>Racing</td>\n",
       "      <td>15.68</td>\n",
       "      <td>12.76</td>\n",
       "      <td>3.79</td>\n",
       "      <td>3.29</td>\n",
       "      <td>82.0</td>\n",
       "      <td>8.3</td>\n",
       "      <td>E</td>\n",
       "    </tr>\n",
       "    <tr>\n",
       "      <th>3</th>\n",
       "      <td>Wii Sports Resort</td>\n",
       "      <td>Wii</td>\n",
       "      <td>2009.0</td>\n",
       "      <td>Sports</td>\n",
       "      <td>15.61</td>\n",
       "      <td>10.93</td>\n",
       "      <td>3.28</td>\n",
       "      <td>2.95</td>\n",
       "      <td>80.0</td>\n",
       "      <td>8</td>\n",
       "      <td>E</td>\n",
       "    </tr>\n",
       "    <tr>\n",
       "      <th>4</th>\n",
       "      <td>Pokemon Red/Pokemon Blue</td>\n",
       "      <td>GB</td>\n",
       "      <td>1996.0</td>\n",
       "      <td>Role-Playing</td>\n",
       "      <td>11.27</td>\n",
       "      <td>8.89</td>\n",
       "      <td>10.22</td>\n",
       "      <td>1.00</td>\n",
       "      <td>NaN</td>\n",
       "      <td>NaN</td>\n",
       "      <td>NaN</td>\n",
       "    </tr>\n",
       "  </tbody>\n",
       "</table>\n",
       "</div>"
      ],
      "text/plain": [
       "                       name platform  year_of_release         genre  na_sales  \\\n",
       "0                Wii Sports      Wii           2006.0        Sports     41.36   \n",
       "1         Super Mario Bros.      NES           1985.0      Platform     29.08   \n",
       "2            Mario Kart Wii      Wii           2008.0        Racing     15.68   \n",
       "3         Wii Sports Resort      Wii           2009.0        Sports     15.61   \n",
       "4  Pokemon Red/Pokemon Blue       GB           1996.0  Role-Playing     11.27   \n",
       "\n",
       "   eu_sales  jp_sales  other_sales  critic_score user_score rating  \n",
       "0     28.96      3.77         8.45          76.0          8      E  \n",
       "1      3.58      6.81         0.77           NaN        NaN    NaN  \n",
       "2     12.76      3.79         3.29          82.0        8.3      E  \n",
       "3     10.93      3.28         2.95          80.0          8      E  \n",
       "4      8.89     10.22         1.00           NaN        NaN    NaN  "
      ]
     },
     "execution_count": 6,
     "metadata": {},
     "output_type": "execute_result"
    }
   ],
   "source": [
    "new_columns = []\n",
    "for i in data:\n",
    "    i_new = i.lower()\n",
    "    new_columns.append(i_new)\n",
    "data.columns = new_columns\n",
    "data.head()"
   ]
  },
  {
   "cell_type": "markdown",
   "id": "37bb2fc0",
   "metadata": {},
   "source": [
    "**Обратим внимание на аббревиатуру 'tbd' в столбце с оценкой пользователей.** \n",
    "\n",
    "tbd - To Be Determined (англ.). Можно перевести как \"будет определена\". \n",
    "\n",
    "То есть пока что оценки для этих игр нет. Можно заменить это значение на NaN."
   ]
  },
  {
   "cell_type": "code",
   "execution_count": 7,
   "id": "7d993aec",
   "metadata": {},
   "outputs": [],
   "source": [
    "data['user_score'] = data['user_score'].replace('tbd', np.NaN)"
   ]
  },
  {
   "cell_type": "markdown",
   "id": "426130c1",
   "metadata": {},
   "source": [
    "###  Обработаем пропуски.\n",
    "\n",
    "В столбцах `name` и `year_of_release` всего несколько пропусков. Поэтому можно ими пренебречь. \n",
    "\n",
    "Остальные данные же могут сильно пострадать, если удалить строки с пропусками или заменить их на какие-либо значения. \n",
    "\n",
    "Поэтому оставим их как есть.\n"
   ]
  },
  {
   "cell_type": "code",
   "execution_count": 8,
   "id": "e43a70dd",
   "metadata": {},
   "outputs": [
    {
     "data": {
      "text/plain": [
       "'1.2.4'"
      ]
     },
     "execution_count": 8,
     "metadata": {},
     "output_type": "execute_result"
    }
   ],
   "source": [
    "pd.__version__"
   ]
  },
  {
   "cell_type": "code",
   "execution_count": 9,
   "id": "7344d01c",
   "metadata": {},
   "outputs": [],
   "source": [
    "data = data.dropna(subset=['name'])\n",
    "data = data.dropna(subset=['year_of_release'])\n",
    "# data.info()"
   ]
  },
  {
   "cell_type": "markdown",
   "id": "639c45d8",
   "metadata": {},
   "source": [
    "### Преобразуем данные в нужные типы. \n",
    "\n",
    "Столбец `year_of_release` должен иметь тип object, a `user_score` - float"
   ]
  },
  {
   "cell_type": "code",
   "execution_count": 10,
   "id": "3e6b1025",
   "metadata": {
    "scrolled": true
   },
   "outputs": [],
   "source": [
    "data['year_of_release'] = data['year_of_release'].fillna(0).astype(int).astype(object)\n",
    "data['user_score'] = data['user_score'].astype('float64')\n",
    "# data.info()\n",
    "# data"
   ]
  },
  {
   "cell_type": "markdown",
   "id": "612ca287",
   "metadata": {},
   "source": [
    "### Проверим данные на полные дубликаты строк. "
   ]
  },
  {
   "cell_type": "code",
   "execution_count": 11,
   "id": "b6e8680f",
   "metadata": {},
   "outputs": [
    {
     "data": {
      "text/plain": [
       "0"
      ]
     },
     "execution_count": 11,
     "metadata": {},
     "output_type": "execute_result"
    }
   ],
   "source": [
    "data.duplicated().sum()"
   ]
  },
  {
   "cell_type": "markdown",
   "id": "ce45e3c6",
   "metadata": {},
   "source": [
    "###  Посчитаем суммарные продажи во всех регионах и запишим их в отдельный столбец."
   ]
  },
  {
   "cell_type": "code",
   "execution_count": 12,
   "id": "56a88b28",
   "metadata": {},
   "outputs": [],
   "source": [
    "data['all_sales'] = (data['na_sales'] + data['eu_sales'] + data['jp_sales'] + data['other_sales']).round(2)\n",
    "# data['all_sales']"
   ]
  },
  {
   "cell_type": "markdown",
   "id": "bf712deb",
   "metadata": {},
   "source": [
    "<div class=\"alert alert-block alert-success\">\n",
    "<b>✅Комментарий ревьюера 2:</b> \n",
    "    \n",
    "Тут можно использовать метод `DataFrame.sum` с аргументом `axis=1`</div>\n",
    "\n",
    "```python\n",
    "\n",
    "        df['total_sum'] = df[['value_1', 'value_2', 'value_3', 'value_4']].sum(axis=1)\n",
    "    \n",
    "```"
   ]
  },
  {
   "cell_type": "code",
   "execution_count": 13,
   "id": "207235df",
   "metadata": {},
   "outputs": [],
   "source": [
    "# data.head()"
   ]
  },
  {
   "cell_type": "markdown",
   "id": "4b0b372a",
   "metadata": {},
   "source": [
    "**Вывод:**\n",
    "\n",
    "Во время предобработки данных были произведены следующие действия:\n",
    "\n",
    "* Названия столбцов приведены к нижнему регистру\n",
    "* Аббревиатура tbd заменена на NаN\n",
    "* В столбцах name и year_of_release удалены строки с пропусками\n",
    "* Типы данных столбцов year_of_release и user_score приведены к правильным\n",
    "* В датасет добавлен новый столбец с суммарными продажами all_sales"
   ]
  },
  {
   "cell_type": "markdown",
   "id": "f75cad0f",
   "metadata": {},
   "source": [
    "# 3. Проведём исследовательский анализ данных\n",
    "###  Посмотрим, сколько игр выпускалось в разные годы. "
   ]
  },
  {
   "cell_type": "code",
   "execution_count": 14,
   "id": "b55a463b",
   "metadata": {
    "scrolled": true
   },
   "outputs": [
    {
     "data": {
      "text/plain": [
       "<AxesSubplot:>"
      ]
     },
     "execution_count": 14,
     "metadata": {},
     "output_type": "execute_result"
    },
    {
     "data": {
      "image/png": "[encoded data removed]",
      "text/plain": [
       "<Figure size 432x288 with 1 Axes>"
      ]
     },
     "metadata": {
      "needs_background": "light"
     },
     "output_type": "display_data"
    }
   ],
   "source": [
    "data['year_of_release'].hist(bins=30)"
   ]
  },
  {
   "cell_type": "code",
   "execution_count": 15,
   "id": "0474bf3c",
   "metadata": {},
   "outputs": [],
   "source": [
    "data = data.loc[data['year_of_release'] > 1995]"
   ]
  },
  {
   "cell_type": "markdown",
   "id": "5e59b2b6",
   "metadata": {},
   "source": [
    "**Вывод:**\n",
    "\n",
    "По графику выше видим, что в 1980-1995 выпускалось крайне мало игр. \n",
    "\n",
    "В это время ещё далеко не у каждого человека и даже семьи был компьютер.\n",
    "\n",
    "Так что в анализ нужно брать данные с 1995 и позднее."
   ]
  },
  {
   "cell_type": "markdown",
   "id": "cd03ac4a",
   "metadata": {},
   "source": [
    "### Посмотрим, как менялись продажи по платформам. \n",
    "\n",
    "Выберем платформы с наибольшими суммарными продажами и построим распределение по годам."
   ]
  },
  {
   "cell_type": "code",
   "execution_count": 16,
   "id": "1157fdf7",
   "metadata": {
    "scrolled": false
   },
   "outputs": [],
   "source": [
    "# data['all_sales'].hist(bins=30)"
   ]
  },
  {
   "cell_type": "code",
   "execution_count": 17,
   "id": "3febfda3",
   "metadata": {},
   "outputs": [],
   "source": [
    "big_platforms = data.groupby('platform').agg({'all_sales': 'sum'}).sort_values(by='all_sales').tail(5).index.to_list()"
   ]
  },
  {
   "cell_type": "code",
   "execution_count": 18,
   "id": "660b967b",
   "metadata": {},
   "outputs": [
    {
     "data": {
      "text/plain": [
       "['PS', 'DS', 'Wii', 'PS3', 'X360', 'PS2']"
      ]
     },
     "execution_count": 18,
     "metadata": {},
     "output_type": "execute_result"
    }
   ],
   "source": [
    "# код ревьюера\n",
    "data.groupby('platform').agg({'all_sales': 'sum'}).sort_values(by='all_sales').tail(6).index.to_list()"
   ]
  },
  {
   "cell_type": "code",
   "execution_count": 19,
   "id": "b59a5d25",
   "metadata": {
    "scrolled": true
   },
   "outputs": [
    {
     "name": "stdout",
     "output_type": "stream",
     "text": [
      "DS\n"
     ]
    },
    {
     "data": {
      "image/png": "[encoded data removed]",
      "text/plain": [
       "<Figure size 432x288 with 1 Axes>"
      ]
     },
     "metadata": {
      "needs_background": "light"
     },
     "output_type": "display_data"
    },
    {
     "name": "stdout",
     "output_type": "stream",
     "text": [
      "Wii\n"
     ]
    },
    {
     "data": {
      "image/png": "[encoded data removed]",
      "text/plain": [
       "<Figure size 432x288 with 1 Axes>"
      ]
     },
     "metadata": {
      "needs_background": "light"
     },
     "output_type": "display_data"
    },
    {
     "name": "stdout",
     "output_type": "stream",
     "text": [
      "PS3\n"
     ]
    },
    {
     "data": {
      "image/png": "[encoded data removed]",
      "text/plain": [
       "<Figure size 432x288 with 1 Axes>"
      ]
     },
     "metadata": {
      "needs_background": "light"
     },
     "output_type": "display_data"
    },
    {
     "name": "stdout",
     "output_type": "stream",
     "text": [
      "X360\n"
     ]
    },
    {
     "data": {
      "image/png": "[encoded data removed]",
      "text/plain": [
       "<Figure size 432x288 with 1 Axes>"
      ]
     },
     "metadata": {
      "needs_background": "light"
     },
     "output_type": "display_data"
    },
    {
     "name": "stdout",
     "output_type": "stream",
     "text": [
      "PS2\n"
     ]
    },
    {
     "data": {
      "image/png": "[encoded data removed]",
      "text/plain": [
       "<Figure size 432x288 with 1 Axes>"
      ]
     },
     "metadata": {
      "needs_background": "light"
     },
     "output_type": "display_data"
    }
   ],
   "source": [
    "for p in big_platforms:\n",
    "    p_data = data.loc[data['platform'] == p]\n",
    "    print(p)\n",
    "    p_data['year_of_release'].hist(bins=30)\n",
    "    plt.show()"
   ]
  },
  {
   "cell_type": "code",
   "execution_count": 20,
   "id": "8c03f7d2",
   "metadata": {},
   "outputs": [],
   "source": [
    "data = data.loc[data['year_of_release'] >= 2013]"
   ]
  },
  {
   "cell_type": "markdown",
   "id": "55b00707",
   "metadata": {},
   "source": [
    "**Вывод:**\n",
    "\n",
    "Среднее время существования платформы 6-9 лет. А рост продаж на них составляет примерно половину этого срока.\n",
    "\n",
    "Возьмём данные за соответствующий актуальный период. \n",
    "\n",
    "Поскольку нас интересует прогноз на 2017 год, то в работу возьмём данные начиная с 2013 года.\n",
    "\n",
    "Данные за предыдущие годы в анализе учтены не будут.\n"
   ]
  },
  {
   "cell_type": "markdown",
   "id": "638b36b4",
   "metadata": {},
   "source": [
    "###  Какие платформы лидируют по продажам, растут или падают? \n",
    "Выберем несколько потенциально прибыльных платформ. \n",
    "\n",
    "Построим график «ящик с усами» по глобальным продажам игр в разбивке по платформам."
   ]
  },
  {
   "cell_type": "code",
   "execution_count": 21,
   "id": "1f006657",
   "metadata": {},
   "outputs": [
    {
     "data": {
      "text/plain": [
       "array(['PS3', 'X360', 'PS4', '3DS', 'XOne', 'WiiU', 'Wii', 'PC', 'PSV',\n",
       "       'DS', 'PSP'], dtype=object)"
      ]
     },
     "execution_count": 21,
     "metadata": {},
     "output_type": "execute_result"
    }
   ],
   "source": [
    "# platforms = ['Wii', 'X360', 'PS3', 'PS4', '3DS', 'PC', 'PSP', 'XOne', 'WiiU', 'PSV']\n",
    "platforms = data['platform'].unique()\n",
    "platforms"
   ]
  },
  {
   "cell_type": "code",
   "execution_count": 22,
   "id": "6c0e26ab",
   "metadata": {},
   "outputs": [
    {
     "name": "stdout",
     "output_type": "stream",
     "text": [
      "PS3 181.43\n"
     ]
    },
    {
     "data": {
      "image/png": "[encoded data removed]",
      "text/plain": [
       "<Figure size 432x288 with 1 Axes>"
      ]
     },
     "metadata": {
      "needs_background": "light"
     },
     "output_type": "display_data"
    },
    {
     "name": "stdout",
     "output_type": "stream",
     "text": [
      "X360 136.8\n"
     ]
    },
    {
     "data": {
      "image/png": "[encoded data removed]",
      "text/plain": [
       "<Figure size 432x288 with 1 Axes>"
      ]
     },
     "metadata": {
      "needs_background": "light"
     },
     "output_type": "display_data"
    },
    {
     "name": "stdout",
     "output_type": "stream",
     "text": [
      "PS4 314.14\n"
     ]
    },
    {
     "data": {
      "image/png": "[encoded data removed]",
      "text/plain": [
       "<Figure size 432x288 with 1 Axes>"
      ]
     },
     "metadata": {
      "needs_background": "light"
     },
     "output_type": "display_data"
    },
    {
     "name": "stdout",
     "output_type": "stream",
     "text": [
      "3DS 143.25\n"
     ]
    },
    {
     "data": {
      "image/png": "[encoded data removed]",
      "text/plain": [
       "<Figure size 432x288 with 1 Axes>"
      ]
     },
     "metadata": {
      "needs_background": "light"
     },
     "output_type": "display_data"
    },
    {
     "name": "stdout",
     "output_type": "stream",
     "text": [
      "XOne 159.32\n"
     ]
    },
    {
     "data": {
      "image/png": "[encoded data removed]",
      "text/plain": [
       "<Figure size 432x288 with 1 Axes>"
      ]
     },
     "metadata": {
      "needs_background": "light"
     },
     "output_type": "display_data"
    },
    {
     "name": "stdout",
     "output_type": "stream",
     "text": [
      "WiiU 64.63000000000001\n"
     ]
    },
    {
     "data": {
      "image/png": "[encoded data removed]",
      "text/plain": [
       "<Figure size 432x288 with 1 Axes>"
      ]
     },
     "metadata": {
      "needs_background": "light"
     },
     "output_type": "display_data"
    },
    {
     "name": "stdout",
     "output_type": "stream",
     "text": [
      "Wii 13.659999999999997\n"
     ]
    },
    {
     "data": {
      "image/png": "[encoded data removed]",
      "text/plain": [
       "<Figure size 432x288 with 1 Axes>"
      ]
     },
     "metadata": {
      "needs_background": "light"
     },
     "output_type": "display_data"
    },
    {
     "name": "stdout",
     "output_type": "stream",
     "text": [
      "PC 39.42999999999999\n"
     ]
    },
    {
     "data": {
      "image/png": "[encoded data removed]",
      "text/plain": [
       "<Figure size 432x288 with 1 Axes>"
      ]
     },
     "metadata": {
      "needs_background": "light"
     },
     "output_type": "display_data"
    },
    {
     "name": "stdout",
     "output_type": "stream",
     "text": [
      "PSV 32.99\n"
     ]
    },
    {
     "data": {
      "image/png": "[encoded data removed]",
      "text/plain": [
       "<Figure size 432x288 with 1 Axes>"
      ]
     },
     "metadata": {
      "needs_background": "light"
     },
     "output_type": "display_data"
    },
    {
     "name": "stdout",
     "output_type": "stream",
     "text": [
      "DS 1.54\n"
     ]
    },
    {
     "data": {
      "image/png": "[encoded data removed]",
      "text/plain": [
       "<Figure size 432x288 with 1 Axes>"
      ]
     },
     "metadata": {
      "needs_background": "light"
     },
     "output_type": "display_data"
    },
    {
     "name": "stdout",
     "output_type": "stream",
     "text": [
      "PSP 3.5\n"
     ]
    },
    {
     "data": {
      "image/png": "[encoded data removed]",
      "text/plain": [
       "<Figure size 432x288 with 1 Axes>"
      ]
     },
     "metadata": {
      "needs_background": "light"
     },
     "output_type": "display_data"
    }
   ],
   "source": [
    "for p in platforms:\n",
    "    p_data = data.loc[data['platform'] == p]\n",
    "    sum_sales = p_data['all_sales'].sum()\n",
    "    print(p, sum_sales)\n",
    "    p_data['year_of_release'].hist(bins=30)\n",
    "    plt.show()"
   ]
  },
  {
   "cell_type": "code",
   "execution_count": 23,
   "id": "a17c8d82",
   "metadata": {},
   "outputs": [
    {
     "name": "stdout",
     "output_type": "stream",
     "text": [
      "Index(['PSP', 'PSV', 'PC', '3DS', 'DS', 'PS3', 'Wii', 'PS4', 'WiiU', 'XOne',\n",
      "       'X360'],\n",
      "      dtype='object', name='platform')\n"
     ]
    },
    {
     "data": {
      "text/plain": [
       "(0.0, 2.0)"
      ]
     },
     "execution_count": 23,
     "metadata": {},
     "output_type": "execute_result"
    },
    {
     "data": {
      "image/png": "[encoded data removed]",
      "text/plain": [
       "<Figure size 1040x800 with 1 Axes>"
      ]
     },
     "metadata": {
      "needs_background": "light"
     },
     "output_type": "display_data"
    }
   ],
   "source": [
    "plt.figure(figsize=(13,10), dpi= 80)\n",
    "my_order = data.groupby(by=[\"platform\"])[\"all_sales\"].median().sort_values().index\n",
    "print(my_order)\n",
    "sns.boxplot(x='platform', y='all_sales', data=data, order=my_order)\n",
    "plt.ylim(0, 2)"
   ]
  },
  {
   "cell_type": "markdown",
   "id": "fddb706d",
   "metadata": {},
   "source": [
    "**Вывод:**\n",
    "\n",
    "Были выделены две потенциально прибыльных(находящиеся в зоне роста) платформы: XOne, PS4\n",
    "\n",
    "Все остальные либо уже прекратили свою работу, либо вот-вот это сделают. Они нам не интересны.\n",
    "\n",
    "Две выбранные платформы обладают схожими параметрами:\n",
    "\n",
    "* Основное количество продаж находится в диапазоне 0.01-0.7 млн. \n",
    "* Медиана смещена к нижнему значению и равна примерно 0.2 млн.\n",
    "* Количество значений около 300.\n"
   ]
  },
  {
   "cell_type": "markdown",
   "id": "d3b73088",
   "metadata": {},
   "source": [
    "###  Посмотрим, как влияют на продажи внутри одной популярной платформы отзывы пользователей и критиков. \n",
    "Построим диаграмму рассеяния и посчитаем корреляцию между отзывами и продажами. "
   ]
  },
  {
   "cell_type": "code",
   "execution_count": 24,
   "id": "7b9b5fd8",
   "metadata": {},
   "outputs": [
    {
     "data": {
      "image/png": "[encoded data removed]",
      "text/plain": [
       "<Figure size 432x288 with 1 Axes>"
      ]
     },
     "metadata": {
      "needs_background": "light"
     },
     "output_type": "display_data"
    },
    {
     "data": {
      "image/png": "[encoded data removed]",
      "text/plain": [
       "<Figure size 432x288 with 1 Axes>"
      ]
     },
     "metadata": {
      "needs_background": "light"
     },
     "output_type": "display_data"
    }
   ],
   "source": [
    "data_p = data.loc[data['platform'] == 'PS4']\n",
    "\n",
    "data_p.sort_values('critic_score').plot(x='critic_score', y='all_sales', alpha=0.5, kind='scatter')\n",
    "plt.title(\"Влияние оценки критиков на суммарные продажи\")\n",
    "plt.xlabel(\"Оценка критиков\")\n",
    "plt.ylabel(\"Суммарные продажи\")\n",
    "plt.show()\n",
    "\n",
    "data_p.sort_values('critic_score').plot(x='user_score', y='all_sales', alpha=0.5, kind='scatter')\n",
    "plt.title(\"Влияние оценки игроков на суммарные продажи\")\n",
    "plt.xlabel(\"Оценка игроков\")\n",
    "plt.ylabel(\"Суммарные продажи\")\n",
    "plt.show()"
   ]
  },
  {
   "cell_type": "code",
   "execution_count": 25,
   "id": "9728bc9d",
   "metadata": {
    "scrolled": false
   },
   "outputs": [
    {
     "name": "stdout",
     "output_type": "stream",
     "text": [
      "0.40656790206178106\n",
      "-0.031957110204556397\n"
     ]
    }
   ],
   "source": [
    "print(data_p['critic_score'].corr(data_p['all_sales']))\n",
    "print(data_p['user_score'].corr(data_p['all_sales']))"
   ]
  },
  {
   "cell_type": "code",
   "execution_count": 26,
   "id": "a2fc8b15",
   "metadata": {},
   "outputs": [
    {
     "data": {
      "image/png": "[encoded data removed]",
      "text/plain": [
       "<Figure size 432x288 with 1 Axes>"
      ]
     },
     "metadata": {
      "needs_background": "light"
     },
     "output_type": "display_data"
    },
    {
     "data": {
      "image/png": "[encoded data removed]",
      "text/plain": [
       "<Figure size 432x288 with 1 Axes>"
      ]
     },
     "metadata": {
      "needs_background": "light"
     },
     "output_type": "display_data"
    },
    {
     "data": {
      "image/png": "[encoded data removed]",
      "text/plain": [
       "<Figure size 432x288 with 1 Axes>"
      ]
     },
     "metadata": {
      "needs_background": "light"
     },
     "output_type": "display_data"
    },
    {
     "data": {
      "image/png": "[encoded data removed]",
      "text/plain": [
       "<Figure size 432x288 with 1 Axes>"
      ]
     },
     "metadata": {
      "needs_background": "light"
     },
     "output_type": "display_data"
    },
    {
     "data": {
      "image/png": "[encoded data removed]",
      "text/plain": [
       "<Figure size 432x288 with 1 Axes>"
      ]
     },
     "metadata": {
      "needs_background": "light"
     },
     "output_type": "display_data"
    },
    {
     "data": {
      "image/png": "[encoded data removed]",
      "text/plain": [
       "<Figure size 432x288 with 1 Axes>"
      ]
     },
     "metadata": {
      "needs_background": "light"
     },
     "output_type": "display_data"
    },
    {
     "data": {
      "image/png": "[encoded data removed]",
      "text/plain": [
       "<Figure size 432x288 with 1 Axes>"
      ]
     },
     "metadata": {
      "needs_background": "light"
     },
     "output_type": "display_data"
    },
    {
     "data": {
      "image/png": "[encoded data removed]",
      "text/plain": [
       "<Figure size 432x288 with 1 Axes>"
      ]
     },
     "metadata": {
      "needs_background": "light"
     },
     "output_type": "display_data"
    },
    {
     "data": {
      "image/png": "[encoded data removed]",
      "text/plain": [
       "<Figure size 432x288 with 1 Axes>"
      ]
     },
     "metadata": {
      "needs_background": "light"
     },
     "output_type": "display_data"
    },
    {
     "data": {
      "image/png": "[encoded data removed]",
      "text/plain": [
       "<Figure size 432x288 with 1 Axes>"
      ]
     },
     "metadata": {
      "needs_background": "light"
     },
     "output_type": "display_data"
    },
    {
     "data": {
      "image/png": "[encoded data removed]",
      "text/plain": [
       "<Figure size 432x288 with 1 Axes>"
      ]
     },
     "metadata": {
      "needs_background": "light"
     },
     "output_type": "display_data"
    }
   ],
   "source": [
    "for p in platforms:\n",
    "    data_p = data.loc[data['platform'] == p]\n",
    "    \n",
    "    data_p.sort_values('critic_score').plot(x='critic_score', y='all_sales', alpha=0.5, kind='scatter')\n",
    "    plt.title(p)\n",
    "    plt.xlabel(\"Оценка критиков\")\n",
    "    plt.ylabel(\"Суммарные продажи\")\n",
    "    plt.show()"
   ]
  },
  {
   "cell_type": "code",
   "execution_count": 27,
   "id": "11ee02ed",
   "metadata": {},
   "outputs": [
    {
     "data": {
      "image/png": "[encoded data removed]",
      "text/plain": [
       "<Figure size 432x288 with 1 Axes>"
      ]
     },
     "metadata": {
      "needs_background": "light"
     },
     "output_type": "display_data"
    },
    {
     "data": {
      "image/png": "[encoded data removed]",
      "text/plain": [
       "<Figure size 432x288 with 1 Axes>"
      ]
     },
     "metadata": {
      "needs_background": "light"
     },
     "output_type": "display_data"
    },
    {
     "data": {
      "image/png": "[encoded data removed]",
      "text/plain": [
       "<Figure size 432x288 with 1 Axes>"
      ]
     },
     "metadata": {
      "needs_background": "light"
     },
     "output_type": "display_data"
    },
    {
     "data": {
      "image/png": "[encoded data removed]",
      "text/plain": [
       "<Figure size 432x288 with 1 Axes>"
      ]
     },
     "metadata": {
      "needs_background": "light"
     },
     "output_type": "display_data"
    },
    {
     "data": {
      "image/png": "[encoded data removed]",
      "text/plain": [
       "<Figure size 432x288 with 1 Axes>"
      ]
     },
     "metadata": {
      "needs_background": "light"
     },
     "output_type": "display_data"
    },
    {
     "data": {
      "image/png": "[encoded data removed]",
      "text/plain": [
       "<Figure size 432x288 with 1 Axes>"
      ]
     },
     "metadata": {
      "needs_background": "light"
     },
     "output_type": "display_data"
    },
    {
     "data": {
      "image/png": "[encoded data removed]",
      "text/plain": [
       "<Figure size 432x288 with 1 Axes>"
      ]
     },
     "metadata": {
      "needs_background": "light"
     },
     "output_type": "display_data"
    },
    {
     "data": {
      "image/png": "[encoded data removed]",
      "text/plain": [
       "<Figure size 432x288 with 1 Axes>"
      ]
     },
     "metadata": {
      "needs_background": "light"
     },
     "output_type": "display_data"
    },
    {
     "data": {
      "image/png": "[encoded data removed]",
      "text/plain": [
       "<Figure size 432x288 with 1 Axes>"
      ]
     },
     "metadata": {
      "needs_background": "light"
     },
     "output_type": "display_data"
    },
    {
     "data": {
      "image/png": "[encoded data removed]",
      "text/plain": [
       "<Figure size 432x288 with 1 Axes>"
      ]
     },
     "metadata": {
      "needs_background": "light"
     },
     "output_type": "display_data"
    },
    {
     "data": {
      "image/png": "[encoded data removed]",
      "text/plain": [
       "<Figure size 432x288 with 1 Axes>"
      ]
     },
     "metadata": {
      "needs_background": "light"
     },
     "output_type": "display_data"
    }
   ],
   "source": [
    "for p in platforms:\n",
    "    data_p = data.loc[data['platform'] == p]\n",
    "    \n",
    "    data_p.sort_values('critic_score').plot(x='user_score', y='all_sales', alpha=0.5, kind='scatter')\n",
    "    plt.title(p)\n",
    "    plt.xlabel(\"Оценка игроков\")\n",
    "    plt.ylabel(\"Суммарные продажи\")\n",
    "    plt.show()"
   ]
  },
  {
   "cell_type": "code",
   "execution_count": 28,
   "id": "34214983",
   "metadata": {},
   "outputs": [
    {
     "name": "stdout",
     "output_type": "stream",
     "text": [
      "PS3\n",
      "0.3342853393371919\n",
      "0.002394402735756693\n",
      "\n",
      "X360\n",
      "0.3503445460228664\n",
      "-0.011742185147181335\n",
      "\n",
      "PS4\n",
      "0.40656790206178106\n",
      "-0.031957110204556397\n",
      "\n",
      "3DS\n",
      "0.3570566142288103\n",
      "0.24150411773563016\n",
      "\n",
      "XOne\n",
      "0.4169983280084017\n",
      "-0.0689250532827941\n",
      "\n",
      "WiiU\n",
      "0.3764149065423913\n",
      "0.4193304819266187\n",
      "\n",
      "Wii\n",
      "nan\n",
      "0.6829417215362369\n",
      "\n",
      "PC\n",
      "0.19603028294369376\n",
      "-0.09384186952476743\n",
      "\n",
      "PSV\n",
      "0.2547423503068656\n",
      "0.0009424723319108828\n",
      "\n",
      "DS\n",
      "nan\n",
      "nan\n",
      "\n",
      "PSP\n",
      "nan\n",
      "-0.9999999999999999\n",
      "\n"
     ]
    },
    {
     "name": "stderr",
     "output_type": "stream",
     "text": [
      "/opt/conda/lib/python3.9/site-packages/numpy/lib/function_base.py:2683: RuntimeWarning: Degrees of freedom <= 0 for slice\n",
      "  c = cov(x, y, rowvar, dtype=dtype)\n",
      "/opt/conda/lib/python3.9/site-packages/numpy/lib/function_base.py:2542: RuntimeWarning: divide by zero encountered in true_divide\n",
      "  c *= np.true_divide(1, fact)\n"
     ]
    }
   ],
   "source": [
    "for p in platforms:\n",
    "    data_p = data.loc[data['platform'] == p]\n",
    "    print(p)\n",
    "    print(data_p['critic_score'].corr(data_p['all_sales']))\n",
    "    print(data_p['user_score'].corr(data_p['all_sales']))\n",
    "    print()"
   ]
  },
  {
   "cell_type": "markdown",
   "id": "dd04f435",
   "metadata": {},
   "source": [
    "**Вывод:**\n",
    "\n",
    "По графикам какую-либо зависимость разглядеть достаточно сложно. \n",
    "\n",
    "Коэфициенты корреляции подтверждают, что продажи мало зависят от оценки критиков, \n",
    "\n",
    "а зависимости между оценкой пользователя и продажами нет совсем(она предельно мала).\n"
   ]
  },
  {
   "cell_type": "markdown",
   "id": "92099a09",
   "metadata": {},
   "source": [
    "###  Посмотрим на общее распределение игр по жанрам. "
   ]
  },
  {
   "cell_type": "code",
   "execution_count": 29,
   "id": "33d6daac",
   "metadata": {},
   "outputs": [],
   "source": [
    "data_genre = pd.pivot_table(data, index='genre', values='all_sales', aggfunc=['median'])\n",
    "data_genre.columns=[ 'median']"
   ]
  },
  {
   "cell_type": "code",
   "execution_count": 30,
   "id": "7aa07f78",
   "metadata": {},
   "outputs": [
    {
     "data": {
      "text/html": [
       "<div>\n",
       "<style scoped>\n",
       "    .dataframe tbody tr th:only-of-type {\n",
       "        vertical-align: middle;\n",
       "    }\n",
       "\n",
       "    .dataframe tbody tr th {\n",
       "        vertical-align: top;\n",
       "    }\n",
       "\n",
       "    .dataframe thead th {\n",
       "        text-align: right;\n",
       "    }\n",
       "</style>\n",
       "<table border=\"1\" class=\"dataframe\">\n",
       "  <thead>\n",
       "    <tr style=\"text-align: right;\">\n",
       "      <th></th>\n",
       "      <th>median</th>\n",
       "    </tr>\n",
       "    <tr>\n",
       "      <th>genre</th>\n",
       "      <th></th>\n",
       "    </tr>\n",
       "  </thead>\n",
       "  <tbody>\n",
       "    <tr>\n",
       "      <th>Adventure</th>\n",
       "      <td>0.030</td>\n",
       "    </tr>\n",
       "    <tr>\n",
       "      <th>Puzzle</th>\n",
       "      <td>0.060</td>\n",
       "    </tr>\n",
       "    <tr>\n",
       "      <th>Strategy</th>\n",
       "      <td>0.080</td>\n",
       "    </tr>\n",
       "    <tr>\n",
       "      <th>Misc</th>\n",
       "      <td>0.100</td>\n",
       "    </tr>\n",
       "    <tr>\n",
       "      <th>Simulation</th>\n",
       "      <td>0.100</td>\n",
       "    </tr>\n",
       "    <tr>\n",
       "      <th>Action</th>\n",
       "      <td>0.110</td>\n",
       "    </tr>\n",
       "    <tr>\n",
       "      <th>Racing</th>\n",
       "      <td>0.120</td>\n",
       "    </tr>\n",
       "    <tr>\n",
       "      <th>Fighting</th>\n",
       "      <td>0.125</td>\n",
       "    </tr>\n",
       "    <tr>\n",
       "      <th>Role-Playing</th>\n",
       "      <td>0.125</td>\n",
       "    </tr>\n",
       "    <tr>\n",
       "      <th>Platform</th>\n",
       "      <td>0.225</td>\n",
       "    </tr>\n",
       "    <tr>\n",
       "      <th>Sports</th>\n",
       "      <td>0.240</td>\n",
       "    </tr>\n",
       "    <tr>\n",
       "      <th>Shooter</th>\n",
       "      <td>0.450</td>\n",
       "    </tr>\n",
       "  </tbody>\n",
       "</table>\n",
       "</div>"
      ],
      "text/plain": [
       "              median\n",
       "genre               \n",
       "Adventure      0.030\n",
       "Puzzle         0.060\n",
       "Strategy       0.080\n",
       "Misc           0.100\n",
       "Simulation     0.100\n",
       "Action         0.110\n",
       "Racing         0.120\n",
       "Fighting       0.125\n",
       "Role-Playing   0.125\n",
       "Platform       0.225\n",
       "Sports         0.240\n",
       "Shooter        0.450"
      ]
     },
     "execution_count": 30,
     "metadata": {},
     "output_type": "execute_result"
    }
   ],
   "source": [
    "data_genre.sort_values('median')"
   ]
  },
  {
   "cell_type": "markdown",
   "id": "fc3a9f8f",
   "metadata": {},
   "source": [
    "**Вывод:**\n",
    "\n",
    "По сводной таблице видно, что наиболее прибыльным является жанр Shooter. \n",
    "\n",
    "Sports, Platform можно так же назвать остаточно прибыльными жанрами\n",
    "\n",
    "Misc, Role-Playin, Fighting, Simulation, Racing, Action можно отнести к среднеприбыльным \n",
    "\n",
    "Strategy, Puzzle, Adventure - эти жанры приносят значительно меньше прибыли."
   ]
  },
  {
   "cell_type": "markdown",
   "id": "5ec78cde",
   "metadata": {},
   "source": [
    "# 4. Составим портрет пользователя каждого региона\n",
    "### Определим для пользователя каждого региона (NA, EU, JP): \n",
    "### Самые популярные платформы (топ-5).                                           "
   ]
  },
  {
   "cell_type": "code",
   "execution_count": 31,
   "id": "c0759966",
   "metadata": {},
   "outputs": [
    {
     "data": {
      "image/png": "[encoded data removed]",
      "text/plain": [
       "<Figure size 936x720 with 1 Axes>"
      ]
     },
     "metadata": {},
     "output_type": "display_data"
    }
   ],
   "source": [
    "na_sales = data.groupby('platform').agg({'na_sales': 'sum'}).sort_values(by='na_sales', ascending=False)\n",
    "\n",
    "na_sales_top = na_sales[:5]\n",
    "na_sales_other = pd.DataFrame([na_sales[5:].sum()], index=['Other'])\n",
    "na_sales = na_sales_top.append(na_sales_other)\n",
    "\n",
    "na_sales.plot(kind='pie', y='na_sales', figsize=(13,10), title='Популярность игровых платформ в Северной Америке', autopct=\"%.2f\")\n",
    "plt.show()"
   ]
  },
  {
   "cell_type": "code",
   "execution_count": 32,
   "id": "71084b26",
   "metadata": {},
   "outputs": [
    {
     "data": {
      "image/png": "[encoded data removed]",
      "text/plain": [
       "<Figure size 936x720 with 1 Axes>"
      ]
     },
     "metadata": {},
     "output_type": "display_data"
    }
   ],
   "source": [
    "eu_sales = data.groupby('platform').agg({'eu_sales': 'sum'}).sort_values(by='eu_sales', ascending=False)\n",
    "\n",
    "eu_sales_top = eu_sales[:5]\n",
    "eu_sales_other = pd.DataFrame([eu_sales[5:].sum()], index=['Other'])\n",
    "eu_sales = eu_sales_top.append(eu_sales_other)\n",
    "\n",
    "eu_sales.plot(kind='pie', y='eu_sales', figsize=(13,10), title='Популярность игровых платформ в Европе', autopct=\"%.2f\")\n",
    "\n",
    "plt.show()"
   ]
  },
  {
   "cell_type": "code",
   "execution_count": 33,
   "id": "2b78dc96",
   "metadata": {},
   "outputs": [
    {
     "data": {
      "image/png": "[encoded data removed]",
      "text/plain": [
       "<Figure size 936x720 with 1 Axes>"
      ]
     },
     "metadata": {},
     "output_type": "display_data"
    }
   ],
   "source": [
    "jp_sales = data.groupby('platform').agg({'jp_sales': 'sum'}).sort_values(by='jp_sales', ascending=False)\n",
    "\n",
    "jp_sales_top = jp_sales[:5]\n",
    "jp_sales_other = pd.DataFrame([jp_sales[5:].sum()], index=['Other'])\n",
    "jp_sales = jp_sales_top.append(jp_sales_other)\n",
    "\n",
    "jp_sales.plot(kind='pie', y='jp_sales', figsize=(13,10), title='Популярность игровых платформ в Японии', autopct=\"%.2f\")\n",
    "\n",
    "plt.show()"
   ]
  },
  {
   "cell_type": "markdown",
   "id": "329115d4",
   "metadata": {},
   "source": [
    "**Вывод:**\n",
    "\n",
    "Для Северной Америки пятёрка лидеров по популярности:\n",
    "\n",
    "* PS4 25%\n",
    "* XOne 21% \n",
    "* X360 19% \n",
    "* PS3 15 %\n",
    "* 3DS 9%\n",
    "\n",
    "\n",
    "Для Европы:\n",
    "\n",
    "* PS4 36 % \n",
    "* PS3 17 %\n",
    "* XOne 13 % \n",
    "* X360 11 % \n",
    "* 3DS 8 %\n",
    "\n",
    "Для Японии:\n",
    "\n",
    "* 3DS 48 % \n",
    "* PS3 17 % \n",
    "* PSV 13 % \n",
    "* PS4 11 % \n",
    "* WiiU 8 %\n",
    "\n",
    "Топ-5 самых популярных платформ в Европе и Северной Америке совпадают. Это платформы X360, XOne, PS3, 3DS, PS4.\n",
    "\n",
    "В Японии же появляются новые названия: WiiU, PSV. \n",
    "\n",
    "При этом X360 и XOne в Японии менее распространены -  среди 5 наиболее популярных их нет.\n"
   ]
  },
  {
   "cell_type": "markdown",
   "id": "66cf846d",
   "metadata": {},
   "source": [
    "### Самые популярные жанры (топ-5). "
   ]
  },
  {
   "cell_type": "code",
   "execution_count": 34,
   "id": "4cec9a73",
   "metadata": {},
   "outputs": [
    {
     "data": {
      "image/png": "[encoded data removed]",
      "text/plain": [
       "<Figure size 936x720 with 1 Axes>"
      ]
     },
     "metadata": {},
     "output_type": "display_data"
    }
   ],
   "source": [
    "na_sales = data.groupby('genre').agg({'na_sales': 'sum'}).sort_values(by='na_sales', ascending=False)\n",
    "\n",
    "na_sales_top = na_sales[:5]\n",
    "na_sales_other = pd.DataFrame([na_sales[5:].sum()], index=['Other'])\n",
    "na_sales = na_sales_top.append(na_sales_other)\n",
    "\n",
    "na_sales.plot(kind='pie', y='na_sales', figsize=(13,10), title='Популярность игровых жанров в Северной Америке', autopct=\"%.2f\")\n",
    "plt.show()"
   ]
  },
  {
   "cell_type": "code",
   "execution_count": 35,
   "id": "abf48dba",
   "metadata": {},
   "outputs": [
    {
     "data": {
      "image/png": "[encoded data removed]",
      "text/plain": [
       "<Figure size 936x720 with 1 Axes>"
      ]
     },
     "metadata": {},
     "output_type": "display_data"
    }
   ],
   "source": [
    "eu_sales = data.groupby('genre').agg({'eu_sales': 'sum'}).sort_values(by='eu_sales', ascending=False)\n",
    "\n",
    "eu_sales_top = eu_sales[:5]\n",
    "eu_sales_other = pd.DataFrame([eu_sales[5:].sum()], index=['Other'])\n",
    "eu_sales = eu_sales_top.append(eu_sales_other)\n",
    "\n",
    "eu_sales.plot(kind='pie', y='eu_sales', figsize=(13,10), title='Популярность игровых жанров в Европе', autopct=\"%.2f\")\n",
    "\n",
    "plt.show()"
   ]
  },
  {
   "cell_type": "code",
   "execution_count": 36,
   "id": "5120cad4",
   "metadata": {},
   "outputs": [
    {
     "data": {
      "image/png": "[encoded data removed]",
      "text/plain": [
       "<Figure size 936x720 with 1 Axes>"
      ]
     },
     "metadata": {},
     "output_type": "display_data"
    }
   ],
   "source": [
    "jp_sales = data.groupby('genre').agg({'jp_sales': 'sum'}).sort_values(by='jp_sales', ascending=False)\n",
    "\n",
    "jp_sales_top = jp_sales[:5]\n",
    "jp_sales_other = pd.DataFrame([jp_sales[5:].sum()], index=['Other'])\n",
    "jp_sales = jp_sales_top.append(jp_sales_other)\n",
    "\n",
    "jp_sales.plot(kind='pie', y='jp_sales', figsize=(13,10), title='Популярность игровых жанров в Японии', autopct=\"%.2f\")\n",
    "\n",
    "plt.show()"
   ]
  },
  {
   "cell_type": "markdown",
   "id": "99d87f31",
   "metadata": {},
   "source": [
    "**Вывод:**\n",
    "\n",
    "Наиболее популярные жанры в Северной Америке:\n",
    "\n",
    "* Action 29%\n",
    "* Shooter 25%\n",
    "* Sports 15%\n",
    "* Role-Playing 11%\n",
    "* Misc 6%\n",
    "\n",
    "В Европе:\n",
    "\n",
    "* Action 30%\n",
    "* Shooter 22%\n",
    "* Sports 15%\n",
    "* Role-Playing 9%\n",
    "* Racing 5%\n",
    "\n",
    "В Японии:\n",
    "\n",
    "* Role-Playing 36%\n",
    "* Action 29%\n",
    "* Misc 7%\n",
    "* Fighting 5%\n",
    "* Shooter 5%\n",
    "\n",
    "\n",
    "Популярными для  всех трёх стран являются жанры Action, Role-Playing и Shooter.\n",
    "\n",
    "В остальном данные по странам разнятся:\n",
    "\n",
    "* Sports нравится европейцам и американцам,\n",
    "\n",
    "* Misc - японцам и американцам,\n",
    "\n",
    "* Racing - европейцам,\n",
    "\n",
    "* Fighting - японцам.\n",
    "\n"
   ]
  },
  {
   "cell_type": "markdown",
   "id": "3935a9d4",
   "metadata": {},
   "source": [
    "### Влияет ли рейтинг ESRB на продажи в отдельном регионе?"
   ]
  },
  {
   "cell_type": "code",
   "execution_count": 37,
   "id": "25df76f0",
   "metadata": {},
   "outputs": [],
   "source": [
    "data['rating'] = data['rating'].fillna('DD')"
   ]
  },
  {
   "cell_type": "code",
   "execution_count": 38,
   "id": "767b658d",
   "metadata": {},
   "outputs": [
    {
     "data": {
      "text/html": [
       "<div>\n",
       "<style scoped>\n",
       "    .dataframe tbody tr th:only-of-type {\n",
       "        vertical-align: middle;\n",
       "    }\n",
       "\n",
       "    .dataframe tbody tr th {\n",
       "        vertical-align: top;\n",
       "    }\n",
       "\n",
       "    .dataframe thead th {\n",
       "        text-align: right;\n",
       "    }\n",
       "</style>\n",
       "<table border=\"1\" class=\"dataframe\">\n",
       "  <thead>\n",
       "    <tr style=\"text-align: right;\">\n",
       "      <th></th>\n",
       "      <th>eu_sales</th>\n",
       "      <th>jp_sales</th>\n",
       "      <th>na_sales</th>\n",
       "    </tr>\n",
       "    <tr>\n",
       "      <th>rating</th>\n",
       "      <th></th>\n",
       "      <th></th>\n",
       "      <th></th>\n",
       "    </tr>\n",
       "  </thead>\n",
       "  <tbody>\n",
       "    <tr>\n",
       "      <th>DD</th>\n",
       "      <td>20</td>\n",
       "      <td>60</td>\n",
       "      <td>20</td>\n",
       "    </tr>\n",
       "    <tr>\n",
       "      <th>E</th>\n",
       "      <td>21</td>\n",
       "      <td>10</td>\n",
       "      <td>18</td>\n",
       "    </tr>\n",
       "    <tr>\n",
       "      <th>E10+</th>\n",
       "      <td>10</td>\n",
       "      <td>4</td>\n",
       "      <td>12</td>\n",
       "    </tr>\n",
       "    <tr>\n",
       "      <th>M</th>\n",
       "      <td>37</td>\n",
       "      <td>10</td>\n",
       "      <td>37</td>\n",
       "    </tr>\n",
       "    <tr>\n",
       "      <th>T</th>\n",
       "      <td>10</td>\n",
       "      <td>14</td>\n",
       "      <td>11</td>\n",
       "    </tr>\n",
       "  </tbody>\n",
       "</table>\n",
       "</div>"
      ],
      "text/plain": [
       "        eu_sales  jp_sales  na_sales\n",
       "rating                              \n",
       "DD            20        60        20\n",
       "E             21        10        18\n",
       "E10+          10         4        12\n",
       "M             37        10        37\n",
       "T             10        14        11"
      ]
     },
     "execution_count": 38,
     "metadata": {},
     "output_type": "execute_result"
    }
   ],
   "source": [
    "data_rating = data.pivot_table(index='rating', values=['na_sales', 'eu_sales', 'jp_sales'], aggfunc='sum')\n",
    "data_rating['na_sales'] = (data_rating['na_sales']/(data_rating['na_sales'].sum())*100).astype(int)\n",
    "data_rating['eu_sales'] = (data_rating['eu_sales']/(data_rating['eu_sales'].sum())*100).astype(int)\n",
    "data_rating['jp_sales'] = (data_rating['jp_sales']/(data_rating['jp_sales'].sum())*100).astype(int)\n",
    "\n",
    "data_rating"
   ]
  },
  {
   "cell_type": "markdown",
   "id": "e7b633b9",
   "metadata": {},
   "source": [
    "**Вывод:**\n",
    "\n",
    "Игры с рейтингом М, E и E10+ меньше покупают в Японии, большей популярностью обладают игры с рейтингом Т.\n",
    "\n",
    "А также в Японии чаще, чем в остальных странах рейтинг не ставится вообще(DD)."
   ]
  },
  {
   "cell_type": "markdown",
   "id": "5494b899",
   "metadata": {},
   "source": [
    "# 5. Проверим гипотезы\n",
    "### H0: Средние пользовательские рейтинги платформ Xbox One и PC одинаковые.\n",
    "### H1: Средние пользовательские рейтинги платформ Xbox One и PC различны."
   ]
  },
  {
   "cell_type": "code",
   "execution_count": 39,
   "id": "b6e66ecf",
   "metadata": {},
   "outputs": [
    {
     "name": "stdout",
     "output_type": "stream",
     "text": [
      "p-value = 0.14012658403611503\n",
      "Отвергнуть нулевую гипотезу пока что нельзя\n"
     ]
    }
   ],
   "source": [
    "data_XOne = data[data['platform'] == 'XOne']['user_score']\n",
    "data_PC = data[data['platform'] == 'PC']['user_score']\n",
    "\n",
    "alpha = 0.05\n",
    "results = st.ttest_ind(data_XOne, data_PC, nan_policy = 'omit')\n",
    "print('p-value =', results.pvalue)\n",
    "\n",
    "if results.pvalue < alpha:\n",
    "    print('Отвергаем нулевую гипотезу')\n",
    "else:\n",
    "    print('Отвергнуть нулевую гипотезу пока что нельзя')"
   ]
  },
  {
   "cell_type": "markdown",
   "id": "1582e0ff",
   "metadata": {},
   "source": [
    "**Вывод:**\n",
    "\n",
    "Отвергнуть гипотезу \"Средние пользовательские рейтинги платформ Xbox One и PC одинаковые\" пока что нельзя.\n",
    "\n",
    "С большей долей вероятности средние пользовательские рейтинги платформ XOne и PC не имеют статистически значимых отличий.\n",
    "\n",
    "При значении p-value = 0.14."
   ]
  },
  {
   "cell_type": "markdown",
   "id": "d57d2664",
   "metadata": {},
   "source": [
    "### H0: Средние пользовательские рейтинги жанров Action  и Sports одинаковые.\n",
    "### H1: Средние пользовательские рейтинги жанров Action  и Sports разные.\n",
    "\n",
    "Action (англ. «действие», экшен-игры)\n",
    "\n",
    "Sports (англ. «спортивные соревнования») "
   ]
  },
  {
   "cell_type": "code",
   "execution_count": 40,
   "id": "4b6b8182",
   "metadata": {},
   "outputs": [
    {
     "name": "stdout",
     "output_type": "stream",
     "text": [
      "p-value = 1.0517832389139422e-27\n",
      "Отвергаем нулевую гипотезу\n"
     ]
    }
   ],
   "source": [
    "data_action = data[data['genre'] == 'Action']['user_score']\n",
    "data_sports = data[data['genre'] == 'Sports']['user_score']\n",
    "\n",
    "alpha = 0.05\n",
    "results = st.ttest_ind(data_action, data_sports, nan_policy = 'omit')\n",
    "print('p-value =', results.pvalue)\n",
    "\n",
    "if results.pvalue < alpha:\n",
    "    print('Отвергаем нулевую гипотезу')\n",
    "else:\n",
    "    print('Отвергнуть нулевую гипотезу пока что нельзя')"
   ]
  },
  {
   "cell_type": "markdown",
   "id": "c08d7780",
   "metadata": {},
   "source": [
    "**Вывод:**\n",
    "\n",
    "По результатам проверки гипотеза \"Средние пользовательские рейтинги жанров Action и Sports разные\" отклонена.\n",
    "\n",
    "С большой долей вероятности средние пользовательские рейтинги жанров Action и Sports имеют статистически значимые отличия.\n",
    "\n",
    "При значении p-value = 1.05 * 10^(-27).\n"
   ]
  },
  {
   "cell_type": "markdown",
   "id": "d98b3aae",
   "metadata": {},
   "source": [
    "# 6. Общий вывод"
   ]
  },
  {
   "cell_type": "markdown",
   "id": "0390c021",
   "metadata": {},
   "source": [
    "1. При первичном знакомстве с данными выявлено несколько интересных моментов:\n",
    "\n",
    "* Игры, присутствующие в датасете, были выпущены в период с 1980 по 2016 годы. Больше всего игр выпустили в 2010 году.\n",
    "* Оценки критиков лежат в пределах 0-100. Большая часть находится в промежутке от 50 до 90.\n",
    "\n",
    "2. Во время предобработки данных были произведены следующие действия:\n",
    "\n",
    "* Названия столбцов приведены к нижнему регистру\n",
    "* Аббревиатура tbd заменена на NаN\n",
    "* В столбцах name и year_of_release удалены строки с пропусками\n",
    "* Типы данных столбцов year_of_release и user_score приведены к правильным\n",
    "* В датасет добавлен новый столбец с суммарными продажами all_sales\n",
    "\n",
    "3. При дальнейшем анализе обнаружены интересные факты:\n",
    "\n",
    "* Среднее время существования платформы 6-9 лет. А рост продаж на них составляет примерно половину этого срока. Поскольку нас интересует прогноз на 2017 год, то в работу были взяты данные начиная с 2013 года.\n",
    "\n",
    "* Есть две потенциально прибыльных(находящиеся в зоне роста) платформы: XOne, PS4\n",
    "\n",
    "* Продажи мало зависят от оценки критиков, а зависимости между оценкой пользователя и продажами нет совсем(она предельно мала).\n",
    "\n",
    "* По сводной таблице видно, что наиболее прибыльным является жанр Shooter. Sports, Platform можно так же назвать остаточно прибыльными жанрами. Misc, Role-Playin, Fighting, Simulation, Racing, Action можно отнести к среднеприбыльным. Strategy, Puzzle, Adventure - эти жанры приносят значительно меньше прибыли.\n",
    "\n",
    "4. Составлены портреты пользователей разных регионов:\n",
    "\n",
    "* Популярными жанрами для  всех трёх стран являются жанры Action, Role-Playing и Shooter. В остальном данные по странам разнятся.\n",
    "\n",
    "* Sports нравится европейцам и американцам,\n",
    "\n",
    "* Misc - японцам и американцам,\n",
    "\n",
    "* Racing - европейцам,\n",
    "\n",
    "* Fighting - японцам.\n",
    "\n",
    "* \n",
    "\n",
    "* Топ-5 самых популярных платформ в Европе и Северной Америке совпадают. Это платформы X360, XOne, PS3, 3DS, PS4.\n",
    "\n",
    "* В Японии же появляются новые названия: WiiU, PSV. При этом X360 и XOne в Японии менее распространены -  среди 5 наиболее популярных их нет.\n",
    "\n",
    "\n",
    "* Игры с рейтингом ESRB: М, E и E10+ меньше покупают в Японии, большей популярностью обладают игры с рейтингом Т. А также в Японии чаще, чем в остальных странах рейтинг не ставится вообще(DD).\n",
    "\n",
    "5. Проверены 2 гипотезы.\n",
    "\n",
    "* Оказалось невозможным опровергнуть гипотезу \"Средние пользовательские рейтинги платформ Xbox One и PC одинаковые\".\n",
    "\n",
    "* Получилось опровергнуть гипотезу \"Средние пользовательские рейтинги жанров Action и Sports разные\"."
   ]
  },
  {
   "cell_type": "markdown",
   "id": "bfc6c151",
   "metadata": {},
   "source": [
    "# 7. Рекомендации для отдела маркетинга"
   ]
  },
  {
   "cell_type": "markdown",
   "id": "0430127d",
   "metadata": {},
   "source": [
    "1. XOne, PS4 - перспективные в плане прибыли платформы. В первую очередь следует отдавать предпочтение им.\n",
    "2. В тройку самых популярных жанров входят Shooter, Sports, Platform. Причем акцент стоит сделать на Shooter. Он вдвое прибыльнее чем Sports или Platform. \n",
    "3. Популярными жанрами для  всех трёх стран являются жанры Action, Role-Playing и Shooter. Следует продвигать только их, если есть задача покрыть все рынки.\n",
    "4. Для успеха на локальных рынках стоит также обратить внимание на:\n",
    "* Sports, Misc для Северной Америки (20% рынка)\n",
    "* Sports, Racing для Европы (20% рынка)\n",
    "* Misc, Fighting для Японии (12% рынка)\n",
    "5. В Японии не стоит использовать платформу XOne. Она там не очень распространена. Лучше остановиться только на PS4."
   ]
  }
 ],
 "metadata": {
  "ExecuteTimeLog": [
   {
    "duration": 1380,
    "start_time": "2022-12-05T13:15:01.635Z"
   },
   {
    "duration": 222,
    "start_time": "2022-12-05T13:15:03.017Z"
   },
   {
    "duration": 20,
    "start_time": "2022-12-05T13:15:03.241Z"
   },
   {
    "duration": 31,
    "start_time": "2022-12-05T13:15:03.263Z"
   },
   {
    "duration": 963,
    "start_time": "2022-12-05T13:15:03.296Z"
   },
   {
    "duration": 4,
    "start_time": "2022-12-05T13:15:04.261Z"
   },
   {
    "duration": 21,
    "start_time": "2022-12-05T13:15:04.266Z"
   },
   {
    "duration": 128,
    "start_time": "2022-12-05T13:15:04.290Z"
   },
   {
    "duration": 0,
    "start_time": "2022-12-05T13:15:04.420Z"
   },
   {
    "duration": 0,
    "start_time": "2022-12-05T13:15:04.422Z"
   },
   {
    "duration": 0,
    "start_time": "2022-12-05T13:15:04.423Z"
   },
   {
    "duration": 0,
    "start_time": "2022-12-05T13:15:04.424Z"
   },
   {
    "duration": 0,
    "start_time": "2022-12-05T13:15:04.425Z"
   },
   {
    "duration": 0,
    "start_time": "2022-12-05T13:15:04.426Z"
   },
   {
    "duration": 0,
    "start_time": "2022-12-05T13:15:04.427Z"
   },
   {
    "duration": 0,
    "start_time": "2022-12-05T13:15:04.428Z"
   },
   {
    "duration": 0,
    "start_time": "2022-12-05T13:15:04.429Z"
   },
   {
    "duration": 0,
    "start_time": "2022-12-05T13:15:04.430Z"
   },
   {
    "duration": 0,
    "start_time": "2022-12-05T13:15:04.431Z"
   },
   {
    "duration": 0,
    "start_time": "2022-12-05T13:15:04.432Z"
   },
   {
    "duration": 0,
    "start_time": "2022-12-05T13:15:04.433Z"
   },
   {
    "duration": 1,
    "start_time": "2022-12-05T13:15:04.433Z"
   },
   {
    "duration": 0,
    "start_time": "2022-12-05T13:15:04.434Z"
   },
   {
    "duration": 0,
    "start_time": "2022-12-05T13:15:04.435Z"
   },
   {
    "duration": 0,
    "start_time": "2022-12-05T13:15:04.436Z"
   },
   {
    "duration": 0,
    "start_time": "2022-12-05T13:15:04.437Z"
   },
   {
    "duration": 0,
    "start_time": "2022-12-05T13:15:04.438Z"
   },
   {
    "duration": 0,
    "start_time": "2022-12-05T13:15:04.439Z"
   },
   {
    "duration": 0,
    "start_time": "2022-12-05T13:15:04.440Z"
   },
   {
    "duration": 0,
    "start_time": "2022-12-05T13:15:04.441Z"
   },
   {
    "duration": 27547,
    "start_time": "2022-12-05T13:22:32.090Z"
   },
   {
    "duration": 23,
    "start_time": "2022-12-05T13:23:02.887Z"
   },
   {
    "duration": 2731,
    "start_time": "2022-12-05T13:23:17.722Z"
   },
   {
    "duration": 20,
    "start_time": "2022-12-05T13:23:24.954Z"
   },
   {
    "duration": 1260,
    "start_time": "2022-12-05T19:17:54.593Z"
   },
   {
    "duration": 102,
    "start_time": "2022-12-05T19:17:55.855Z"
   },
   {
    "duration": 21,
    "start_time": "2022-12-05T19:17:55.958Z"
   },
   {
    "duration": 37,
    "start_time": "2022-12-05T19:17:55.982Z"
   },
   {
    "duration": 981,
    "start_time": "2022-12-05T19:17:56.020Z"
   },
   {
    "duration": 3,
    "start_time": "2022-12-05T19:17:57.003Z"
   },
   {
    "duration": 24,
    "start_time": "2022-12-05T19:17:57.008Z"
   },
   {
    "duration": 114,
    "start_time": "2022-12-05T19:17:57.034Z"
   },
   {
    "duration": 0,
    "start_time": "2022-12-05T19:17:57.151Z"
   },
   {
    "duration": 0,
    "start_time": "2022-12-05T19:17:57.152Z"
   },
   {
    "duration": 0,
    "start_time": "2022-12-05T19:17:57.153Z"
   },
   {
    "duration": 0,
    "start_time": "2022-12-05T19:17:57.155Z"
   },
   {
    "duration": 0,
    "start_time": "2022-12-05T19:17:57.156Z"
   },
   {
    "duration": 0,
    "start_time": "2022-12-05T19:17:57.158Z"
   },
   {
    "duration": 0,
    "start_time": "2022-12-05T19:17:57.160Z"
   },
   {
    "duration": 0,
    "start_time": "2022-12-05T19:17:57.161Z"
   },
   {
    "duration": 0,
    "start_time": "2022-12-05T19:17:57.163Z"
   },
   {
    "duration": 0,
    "start_time": "2022-12-05T19:17:57.164Z"
   },
   {
    "duration": 0,
    "start_time": "2022-12-05T19:17:57.166Z"
   },
   {
    "duration": 0,
    "start_time": "2022-12-05T19:17:57.167Z"
   },
   {
    "duration": 0,
    "start_time": "2022-12-05T19:17:57.169Z"
   },
   {
    "duration": 0,
    "start_time": "2022-12-05T19:17:57.170Z"
   },
   {
    "duration": 0,
    "start_time": "2022-12-05T19:17:57.171Z"
   },
   {
    "duration": 0,
    "start_time": "2022-12-05T19:17:57.172Z"
   },
   {
    "duration": 0,
    "start_time": "2022-12-05T19:17:57.173Z"
   },
   {
    "duration": 0,
    "start_time": "2022-12-05T19:17:57.174Z"
   },
   {
    "duration": 0,
    "start_time": "2022-12-05T19:17:57.175Z"
   },
   {
    "duration": 0,
    "start_time": "2022-12-05T19:17:57.176Z"
   },
   {
    "duration": 0,
    "start_time": "2022-12-05T19:17:57.177Z"
   },
   {
    "duration": 0,
    "start_time": "2022-12-05T19:17:57.178Z"
   },
   {
    "duration": 3,
    "start_time": "2022-12-05T20:09:05.516Z"
   },
   {
    "duration": 9,
    "start_time": "2022-12-05T20:10:46.650Z"
   },
   {
    "duration": 7,
    "start_time": "2022-12-05T20:12:31.836Z"
   },
   {
    "duration": 22,
    "start_time": "2022-12-05T20:12:39.856Z"
   },
   {
    "duration": 7,
    "start_time": "2022-12-05T20:12:51.755Z"
   },
   {
    "duration": 6,
    "start_time": "2022-12-05T20:12:52.146Z"
   },
   {
    "duration": 4,
    "start_time": "2022-12-05T20:15:19.408Z"
   },
   {
    "duration": 51,
    "start_time": "2022-12-05T20:15:20.890Z"
   },
   {
    "duration": 16,
    "start_time": "2022-12-05T20:15:21.598Z"
   },
   {
    "duration": 14,
    "start_time": "2022-12-05T20:15:22.041Z"
   },
   {
    "duration": 1043,
    "start_time": "2022-12-05T20:15:22.508Z"
   },
   {
    "duration": 4,
    "start_time": "2022-12-05T20:15:25.516Z"
   },
   {
    "duration": 5,
    "start_time": "2022-12-05T20:15:27.858Z"
   },
   {
    "duration": 12,
    "start_time": "2022-12-05T20:15:30.885Z"
   },
   {
    "duration": 17,
    "start_time": "2022-12-05T20:17:05.967Z"
   },
   {
    "duration": 4,
    "start_time": "2022-12-05T20:17:11.971Z"
   },
   {
    "duration": 12,
    "start_time": "2022-12-05T20:17:41.547Z"
   },
   {
    "duration": 12,
    "start_time": "2022-12-05T20:17:55.206Z"
   },
   {
    "duration": 9,
    "start_time": "2022-12-05T20:18:10.279Z"
   },
   {
    "duration": 8,
    "start_time": "2022-12-05T20:18:18.556Z"
   },
   {
    "duration": 9,
    "start_time": "2022-12-05T20:18:32.872Z"
   },
   {
    "duration": 4,
    "start_time": "2022-12-05T20:18:36.953Z"
   },
   {
    "duration": 3,
    "start_time": "2022-12-05T20:22:03.199Z"
   },
   {
    "duration": 63,
    "start_time": "2022-12-05T20:22:03.204Z"
   },
   {
    "duration": 17,
    "start_time": "2022-12-05T20:22:03.269Z"
   },
   {
    "duration": 21,
    "start_time": "2022-12-05T20:22:03.288Z"
   },
   {
    "duration": 924,
    "start_time": "2022-12-05T20:22:03.311Z"
   },
   {
    "duration": 14,
    "start_time": "2022-12-05T20:22:04.237Z"
   },
   {
    "duration": 24,
    "start_time": "2022-12-05T20:22:04.253Z"
   },
   {
    "duration": 19,
    "start_time": "2022-12-05T20:22:04.279Z"
   },
   {
    "duration": 18,
    "start_time": "2022-12-05T20:22:04.300Z"
   },
   {
    "duration": 13,
    "start_time": "2022-12-05T20:22:04.320Z"
   },
   {
    "duration": 25,
    "start_time": "2022-12-05T20:22:04.335Z"
   },
   {
    "duration": 16,
    "start_time": "2022-12-05T20:22:04.362Z"
   },
   {
    "duration": 195,
    "start_time": "2022-12-05T20:22:04.380Z"
   },
   {
    "duration": 7,
    "start_time": "2022-12-05T20:22:04.577Z"
   },
   {
    "duration": 14,
    "start_time": "2022-12-05T20:22:04.586Z"
   },
   {
    "duration": 13,
    "start_time": "2022-12-05T20:22:04.601Z"
   },
   {
    "duration": 51,
    "start_time": "2022-12-05T20:22:04.616Z"
   },
   {
    "duration": 891,
    "start_time": "2022-12-05T20:22:04.668Z"
   },
   {
    "duration": 6,
    "start_time": "2022-12-05T20:22:05.561Z"
   },
   {
    "duration": 11,
    "start_time": "2022-12-05T20:22:05.569Z"
   },
   {
    "duration": 2075,
    "start_time": "2022-12-05T20:22:05.582Z"
   },
   {
    "duration": 234,
    "start_time": "2022-12-05T20:22:07.659Z"
   },
   {
    "duration": 297,
    "start_time": "2022-12-05T20:22:07.894Z"
   },
   {
    "duration": 5,
    "start_time": "2022-12-05T20:22:08.194Z"
   },
   {
    "duration": 15,
    "start_time": "2022-12-05T20:22:08.201Z"
   },
   {
    "duration": 25,
    "start_time": "2022-12-05T20:22:08.217Z"
   },
   {
    "duration": 33,
    "start_time": "2022-12-05T20:22:08.244Z"
   },
   {
    "duration": 26,
    "start_time": "2022-12-05T20:22:08.278Z"
   },
   {
    "duration": 43,
    "start_time": "2022-12-05T20:22:08.306Z"
   },
   {
    "duration": 17,
    "start_time": "2022-12-05T20:22:08.351Z"
   },
   {
    "duration": 18,
    "start_time": "2022-12-05T20:22:08.370Z"
   },
   {
    "duration": 41,
    "start_time": "2022-12-05T20:22:08.390Z"
   },
   {
    "duration": 11,
    "start_time": "2022-12-05T20:25:42.518Z"
   },
   {
    "duration": 7,
    "start_time": "2022-12-05T20:26:44.737Z"
   },
   {
    "duration": 9,
    "start_time": "2022-12-05T20:26:51.677Z"
   },
   {
    "duration": 10,
    "start_time": "2022-12-05T20:31:47.749Z"
   },
   {
    "duration": 8,
    "start_time": "2022-12-05T20:37:16.449Z"
   },
   {
    "duration": 8,
    "start_time": "2022-12-05T20:37:23.893Z"
   },
   {
    "duration": 4,
    "start_time": "2022-12-05T20:37:27.907Z"
   },
   {
    "duration": 8,
    "start_time": "2022-12-05T20:37:39.393Z"
   },
   {
    "duration": 4,
    "start_time": "2022-12-05T20:37:46.822Z"
   },
   {
    "duration": 25,
    "start_time": "2022-12-05T20:38:13.629Z"
   },
   {
    "duration": 8,
    "start_time": "2022-12-05T20:38:25.062Z"
   },
   {
    "duration": 3,
    "start_time": "2022-12-05T20:47:41.251Z"
   },
   {
    "duration": 71,
    "start_time": "2022-12-05T20:47:41.256Z"
   },
   {
    "duration": 25,
    "start_time": "2022-12-05T20:47:41.328Z"
   },
   {
    "duration": 29,
    "start_time": "2022-12-05T20:47:41.355Z"
   },
   {
    "duration": 936,
    "start_time": "2022-12-05T20:47:41.387Z"
   },
   {
    "duration": 24,
    "start_time": "2022-12-05T20:47:42.325Z"
   },
   {
    "duration": 20,
    "start_time": "2022-12-05T20:47:42.352Z"
   },
   {
    "duration": 14,
    "start_time": "2022-12-05T20:47:42.374Z"
   },
   {
    "duration": 20,
    "start_time": "2022-12-05T20:47:42.390Z"
   },
   {
    "duration": 14,
    "start_time": "2022-12-05T20:47:42.413Z"
   },
   {
    "duration": 26,
    "start_time": "2022-12-05T20:47:42.429Z"
   },
   {
    "duration": 11,
    "start_time": "2022-12-05T20:47:42.457Z"
   },
   {
    "duration": 330,
    "start_time": "2022-12-05T20:47:42.470Z"
   },
   {
    "duration": 7,
    "start_time": "2022-12-05T20:47:42.803Z"
   },
   {
    "duration": 11,
    "start_time": "2022-12-05T20:47:42.812Z"
   },
   {
    "duration": 12,
    "start_time": "2022-12-05T20:47:42.825Z"
   },
   {
    "duration": 54,
    "start_time": "2022-12-05T20:47:42.839Z"
   },
   {
    "duration": 812,
    "start_time": "2022-12-05T20:47:42.895Z"
   },
   {
    "duration": 6,
    "start_time": "2022-12-05T20:47:43.708Z"
   },
   {
    "duration": 14,
    "start_time": "2022-12-05T20:47:43.716Z"
   },
   {
    "duration": 2003,
    "start_time": "2022-12-05T20:47:43.732Z"
   },
   {
    "duration": 258,
    "start_time": "2022-12-05T20:47:45.737Z"
   },
   {
    "duration": 327,
    "start_time": "2022-12-05T20:47:45.997Z"
   },
   {
    "duration": 12,
    "start_time": "2022-12-05T20:47:46.326Z"
   },
   {
    "duration": 24,
    "start_time": "2022-12-05T20:47:46.340Z"
   },
   {
    "duration": 18,
    "start_time": "2022-12-05T20:47:46.365Z"
   },
   {
    "duration": 49,
    "start_time": "2022-12-05T20:47:46.386Z"
   },
   {
    "duration": 27,
    "start_time": "2022-12-05T20:47:46.437Z"
   },
   {
    "duration": 33,
    "start_time": "2022-12-05T20:47:46.465Z"
   },
   {
    "duration": 178,
    "start_time": "2022-12-05T20:47:46.501Z"
   },
   {
    "duration": 21,
    "start_time": "2022-12-05T20:47:46.681Z"
   },
   {
    "duration": 32,
    "start_time": "2022-12-05T20:47:46.704Z"
   },
   {
    "duration": 46,
    "start_time": "2022-12-05T20:47:46.739Z"
   },
   {
    "duration": 42,
    "start_time": "2022-12-06T09:55:32.812Z"
   },
   {
    "duration": 1232,
    "start_time": "2022-12-06T09:55:37.458Z"
   },
   {
    "duration": 193,
    "start_time": "2022-12-06T09:55:38.692Z"
   },
   {
    "duration": 19,
    "start_time": "2022-12-06T09:55:38.887Z"
   },
   {
    "duration": 17,
    "start_time": "2022-12-06T09:55:38.908Z"
   },
   {
    "duration": 892,
    "start_time": "2022-12-06T09:55:38.927Z"
   },
   {
    "duration": 16,
    "start_time": "2022-12-06T09:55:39.830Z"
   },
   {
    "duration": 8,
    "start_time": "2022-12-06T09:55:39.847Z"
   },
   {
    "duration": 6,
    "start_time": "2022-12-06T09:55:39.856Z"
   },
   {
    "duration": 16,
    "start_time": "2022-12-06T09:55:39.864Z"
   },
   {
    "duration": 7,
    "start_time": "2022-12-06T09:55:39.883Z"
   },
   {
    "duration": 8,
    "start_time": "2022-12-06T09:55:39.891Z"
   },
   {
    "duration": 25,
    "start_time": "2022-12-06T09:55:39.901Z"
   },
   {
    "duration": 171,
    "start_time": "2022-12-06T09:55:39.928Z"
   },
   {
    "duration": 7,
    "start_time": "2022-12-06T09:55:40.100Z"
   },
   {
    "duration": 17,
    "start_time": "2022-12-06T09:55:40.109Z"
   },
   {
    "duration": 9,
    "start_time": "2022-12-06T09:55:40.128Z"
   },
   {
    "duration": 43,
    "start_time": "2022-12-06T09:55:40.138Z"
   },
   {
    "duration": 855,
    "start_time": "2022-12-06T09:55:40.183Z"
   },
   {
    "duration": 6,
    "start_time": "2022-12-06T09:55:41.040Z"
   },
   {
    "duration": 9,
    "start_time": "2022-12-06T09:55:41.047Z"
   },
   {
    "duration": 1941,
    "start_time": "2022-12-06T09:55:41.058Z"
   },
   {
    "duration": 213,
    "start_time": "2022-12-06T09:55:43.001Z"
   },
   {
    "duration": 259,
    "start_time": "2022-12-06T09:55:43.216Z"
   },
   {
    "duration": 5,
    "start_time": "2022-12-06T09:55:43.477Z"
   },
   {
    "duration": 16,
    "start_time": "2022-12-06T09:55:43.483Z"
   },
   {
    "duration": 7,
    "start_time": "2022-12-06T09:55:43.501Z"
   },
   {
    "duration": 22,
    "start_time": "2022-12-06T09:55:43.526Z"
   },
   {
    "duration": 22,
    "start_time": "2022-12-06T09:55:43.550Z"
   },
   {
    "duration": 23,
    "start_time": "2022-12-06T09:55:43.573Z"
   },
   {
    "duration": 44,
    "start_time": "2022-12-06T09:55:43.597Z"
   },
   {
    "duration": 15,
    "start_time": "2022-12-06T09:55:43.643Z"
   },
   {
    "duration": 7,
    "start_time": "2022-12-06T09:55:43.660Z"
   },
   {
    "duration": 15,
    "start_time": "2022-12-06T09:55:43.668Z"
   },
   {
    "duration": 4,
    "start_time": "2022-12-06T10:41:36.464Z"
   },
   {
    "duration": 53,
    "start_time": "2022-12-06T10:41:36.470Z"
   },
   {
    "duration": 15,
    "start_time": "2022-12-06T10:41:36.524Z"
   },
   {
    "duration": 15,
    "start_time": "2022-12-06T10:41:36.540Z"
   },
   {
    "duration": 937,
    "start_time": "2022-12-06T10:41:36.556Z"
   },
   {
    "duration": 14,
    "start_time": "2022-12-06T10:41:37.495Z"
   },
   {
    "duration": 17,
    "start_time": "2022-12-06T10:41:37.510Z"
   },
   {
    "duration": 3,
    "start_time": "2022-12-06T10:41:37.529Z"
   },
   {
    "duration": 24,
    "start_time": "2022-12-06T10:41:37.533Z"
   },
   {
    "duration": 9,
    "start_time": "2022-12-06T10:41:37.559Z"
   },
   {
    "duration": 6,
    "start_time": "2022-12-06T10:41:37.571Z"
   },
   {
    "duration": 9,
    "start_time": "2022-12-06T10:41:37.578Z"
   },
   {
    "duration": 148,
    "start_time": "2022-12-06T10:41:37.589Z"
   },
   {
    "duration": 8,
    "start_time": "2022-12-06T10:41:37.739Z"
   },
   {
    "duration": 4,
    "start_time": "2022-12-06T10:41:37.749Z"
   },
   {
    "duration": 9,
    "start_time": "2022-12-06T10:41:37.755Z"
   },
   {
    "duration": 44,
    "start_time": "2022-12-06T10:41:37.765Z"
   },
   {
    "duration": 707,
    "start_time": "2022-12-06T10:41:37.811Z"
   },
   {
    "duration": 8,
    "start_time": "2022-12-06T10:41:38.520Z"
   },
   {
    "duration": 6,
    "start_time": "2022-12-06T10:41:38.529Z"
   },
   {
    "duration": 1899,
    "start_time": "2022-12-06T10:41:38.536Z"
   },
   {
    "duration": 210,
    "start_time": "2022-12-06T10:41:40.437Z"
   },
   {
    "duration": 357,
    "start_time": "2022-12-06T10:41:40.649Z"
   },
   {
    "duration": 6,
    "start_time": "2022-12-06T10:41:41.008Z"
   },
   {
    "duration": 16,
    "start_time": "2022-12-06T10:41:41.026Z"
   },
   {
    "duration": 8,
    "start_time": "2022-12-06T10:41:41.043Z"
   },
   {
    "duration": 27,
    "start_time": "2022-12-06T10:41:41.053Z"
   },
   {
    "duration": 50,
    "start_time": "2022-12-06T10:41:41.081Z"
   },
   {
    "duration": 23,
    "start_time": "2022-12-06T10:41:41.134Z"
   },
   {
    "duration": 17,
    "start_time": "2022-12-06T10:41:41.158Z"
   },
   {
    "duration": 16,
    "start_time": "2022-12-06T10:41:41.176Z"
   },
   {
    "duration": 35,
    "start_time": "2022-12-06T10:41:41.193Z"
   },
   {
    "duration": 8,
    "start_time": "2022-12-06T10:41:41.229Z"
   },
   {
    "duration": 1126,
    "start_time": "2022-12-06T14:57:30.412Z"
   },
   {
    "duration": 54,
    "start_time": "2022-12-06T14:57:31.540Z"
   },
   {
    "duration": 18,
    "start_time": "2022-12-06T14:57:31.596Z"
   },
   {
    "duration": 21,
    "start_time": "2022-12-06T14:57:31.616Z"
   },
   {
    "duration": 856,
    "start_time": "2022-12-06T14:57:31.640Z"
   },
   {
    "duration": 15,
    "start_time": "2022-12-06T14:57:32.497Z"
   },
   {
    "duration": 32,
    "start_time": "2022-12-06T14:57:32.513Z"
   },
   {
    "duration": 10,
    "start_time": "2022-12-06T14:57:32.546Z"
   },
   {
    "duration": 16,
    "start_time": "2022-12-06T14:57:32.557Z"
   },
   {
    "duration": 12,
    "start_time": "2022-12-06T14:57:32.575Z"
   },
   {
    "duration": 6,
    "start_time": "2022-12-06T14:57:32.588Z"
   },
   {
    "duration": 8,
    "start_time": "2022-12-06T14:57:32.596Z"
   },
   {
    "duration": 152,
    "start_time": "2022-12-06T14:57:32.605Z"
   },
   {
    "duration": 8,
    "start_time": "2022-12-06T14:57:32.758Z"
   },
   {
    "duration": 3,
    "start_time": "2022-12-06T14:57:32.767Z"
   },
   {
    "duration": 8,
    "start_time": "2022-12-06T14:57:32.771Z"
   },
   {
    "duration": 60,
    "start_time": "2022-12-06T14:57:32.780Z"
   },
   {
    "duration": 802,
    "start_time": "2022-12-06T14:57:32.841Z"
   },
   {
    "duration": 5,
    "start_time": "2022-12-06T14:57:33.644Z"
   },
   {
    "duration": 10,
    "start_time": "2022-12-06T14:57:33.651Z"
   },
   {
    "duration": 1845,
    "start_time": "2022-12-06T14:57:33.662Z"
   },
   {
    "duration": 214,
    "start_time": "2022-12-06T14:57:35.508Z"
   },
   {
    "duration": 269,
    "start_time": "2022-12-06T14:57:35.724Z"
   },
   {
    "duration": 7,
    "start_time": "2022-12-06T14:57:35.994Z"
   },
   {
    "duration": 28,
    "start_time": "2022-12-06T14:57:36.003Z"
   },
   {
    "duration": 8,
    "start_time": "2022-12-06T14:57:36.033Z"
   },
   {
    "duration": 26,
    "start_time": "2022-12-06T14:57:36.043Z"
   },
   {
    "duration": 23,
    "start_time": "2022-12-06T14:57:36.072Z"
   },
   {
    "duration": 29,
    "start_time": "2022-12-06T14:57:36.122Z"
   },
   {
    "duration": 22,
    "start_time": "2022-12-06T14:57:36.153Z"
   },
   {
    "duration": 47,
    "start_time": "2022-12-06T14:57:36.178Z"
   },
   {
    "duration": 10,
    "start_time": "2022-12-06T14:57:36.227Z"
   },
   {
    "duration": 16,
    "start_time": "2022-12-06T14:57:36.240Z"
   },
   {
    "duration": 1092,
    "start_time": "2022-12-06T15:08:22.549Z"
   },
   {
    "duration": 51,
    "start_time": "2022-12-06T15:08:23.643Z"
   },
   {
    "duration": 18,
    "start_time": "2022-12-06T15:08:23.696Z"
   },
   {
    "duration": 14,
    "start_time": "2022-12-06T15:08:23.716Z"
   },
   {
    "duration": 866,
    "start_time": "2022-12-06T15:08:23.732Z"
   },
   {
    "duration": 14,
    "start_time": "2022-12-06T15:08:24.600Z"
   },
   {
    "duration": 4,
    "start_time": "2022-12-06T15:08:24.622Z"
   },
   {
    "duration": 8,
    "start_time": "2022-12-06T15:08:24.628Z"
   },
   {
    "duration": 13,
    "start_time": "2022-12-06T15:08:24.637Z"
   },
   {
    "duration": 22,
    "start_time": "2022-12-06T15:08:24.653Z"
   },
   {
    "duration": 5,
    "start_time": "2022-12-06T15:08:24.676Z"
   },
   {
    "duration": 6,
    "start_time": "2022-12-06T15:08:24.682Z"
   },
   {
    "duration": 161,
    "start_time": "2022-12-06T15:08:24.689Z"
   },
   {
    "duration": 7,
    "start_time": "2022-12-06T15:08:24.852Z"
   },
   {
    "duration": 2,
    "start_time": "2022-12-06T15:08:24.861Z"
   },
   {
    "duration": 10,
    "start_time": "2022-12-06T15:08:24.864Z"
   },
   {
    "duration": 52,
    "start_time": "2022-12-06T15:08:24.875Z"
   },
   {
    "duration": 834,
    "start_time": "2022-12-06T15:08:24.929Z"
   },
   {
    "duration": 6,
    "start_time": "2022-12-06T15:08:25.765Z"
   },
   {
    "duration": 6,
    "start_time": "2022-12-06T15:08:25.772Z"
   },
   {
    "duration": 1919,
    "start_time": "2022-12-06T15:08:25.780Z"
   },
   {
    "duration": 220,
    "start_time": "2022-12-06T15:08:27.701Z"
   },
   {
    "duration": 285,
    "start_time": "2022-12-06T15:08:27.923Z"
   },
   {
    "duration": 5,
    "start_time": "2022-12-06T15:08:28.210Z"
   },
   {
    "duration": 18,
    "start_time": "2022-12-06T15:08:28.217Z"
   },
   {
    "duration": 9,
    "start_time": "2022-12-06T15:08:28.237Z"
   },
   {
    "duration": 27,
    "start_time": "2022-12-06T15:08:28.248Z"
   },
   {
    "duration": 52,
    "start_time": "2022-12-06T15:08:28.278Z"
   },
   {
    "duration": 25,
    "start_time": "2022-12-06T15:08:28.332Z"
   },
   {
    "duration": 20,
    "start_time": "2022-12-06T15:08:28.359Z"
   },
   {
    "duration": 45,
    "start_time": "2022-12-06T15:08:28.380Z"
   },
   {
    "duration": 23,
    "start_time": "2022-12-06T15:08:28.427Z"
   },
   {
    "duration": 12,
    "start_time": "2022-12-06T15:08:28.451Z"
   },
   {
    "duration": 7,
    "start_time": "2022-12-06T15:11:23.728Z"
   },
   {
    "duration": 1058,
    "start_time": "2022-12-06T15:25:08.379Z"
   },
   {
    "duration": 51,
    "start_time": "2022-12-06T15:25:09.439Z"
   },
   {
    "duration": 19,
    "start_time": "2022-12-06T15:25:09.491Z"
   },
   {
    "duration": 13,
    "start_time": "2022-12-06T15:25:09.512Z"
   },
   {
    "duration": 864,
    "start_time": "2022-12-06T15:25:09.527Z"
   },
   {
    "duration": 13,
    "start_time": "2022-12-06T15:25:10.393Z"
   },
   {
    "duration": 15,
    "start_time": "2022-12-06T15:25:10.408Z"
   },
   {
    "duration": 6,
    "start_time": "2022-12-06T15:25:10.424Z"
   },
   {
    "duration": 14,
    "start_time": "2022-12-06T15:25:10.432Z"
   },
   {
    "duration": 7,
    "start_time": "2022-12-06T15:25:10.447Z"
   },
   {
    "duration": 8,
    "start_time": "2022-12-06T15:25:10.455Z"
   },
   {
    "duration": 8,
    "start_time": "2022-12-06T15:25:10.464Z"
   },
   {
    "duration": 166,
    "start_time": "2022-12-06T15:25:10.473Z"
   },
   {
    "duration": 8,
    "start_time": "2022-12-06T15:25:10.642Z"
   },
   {
    "duration": 6,
    "start_time": "2022-12-06T15:25:10.652Z"
   },
   {
    "duration": 8,
    "start_time": "2022-12-06T15:25:10.660Z"
   },
   {
    "duration": 64,
    "start_time": "2022-12-06T15:25:10.670Z"
   },
   {
    "duration": 8,
    "start_time": "2022-12-06T15:25:10.736Z"
   },
   {
    "duration": 808,
    "start_time": "2022-12-06T15:25:10.746Z"
   },
   {
    "duration": 6,
    "start_time": "2022-12-06T15:25:11.556Z"
   },
   {
    "duration": 10,
    "start_time": "2022-12-06T15:25:11.563Z"
   },
   {
    "duration": 1827,
    "start_time": "2022-12-06T15:25:11.574Z"
   },
   {
    "duration": 220,
    "start_time": "2022-12-06T15:25:13.402Z"
   },
   {
    "duration": 265,
    "start_time": "2022-12-06T15:25:13.624Z"
   },
   {
    "duration": 5,
    "start_time": "2022-12-06T15:25:13.891Z"
   },
   {
    "duration": 29,
    "start_time": "2022-12-06T15:25:13.897Z"
   },
   {
    "duration": 8,
    "start_time": "2022-12-06T15:25:13.927Z"
   },
   {
    "duration": 28,
    "start_time": "2022-12-06T15:25:13.936Z"
   },
   {
    "duration": 24,
    "start_time": "2022-12-06T15:25:13.966Z"
   },
   {
    "duration": 52,
    "start_time": "2022-12-06T15:25:13.992Z"
   },
   {
    "duration": 19,
    "start_time": "2022-12-06T15:25:14.046Z"
   },
   {
    "duration": 16,
    "start_time": "2022-12-06T15:25:14.066Z"
   },
   {
    "duration": 37,
    "start_time": "2022-12-06T15:25:14.084Z"
   },
   {
    "duration": 10,
    "start_time": "2022-12-06T15:25:14.123Z"
   },
   {
    "duration": 49,
    "start_time": "2022-12-07T10:04:56.784Z"
   },
   {
    "duration": 1289,
    "start_time": "2022-12-07T10:05:03.718Z"
   },
   {
    "duration": 105,
    "start_time": "2022-12-07T10:05:05.009Z"
   },
   {
    "duration": 26,
    "start_time": "2022-12-07T10:05:05.116Z"
   },
   {
    "duration": 15,
    "start_time": "2022-12-07T10:05:05.144Z"
   },
   {
    "duration": 977,
    "start_time": "2022-12-07T10:05:05.161Z"
   },
   {
    "duration": 22,
    "start_time": "2022-12-07T10:05:06.140Z"
   },
   {
    "duration": 11,
    "start_time": "2022-12-07T10:05:06.163Z"
   },
   {
    "duration": 21,
    "start_time": "2022-12-07T10:05:06.176Z"
   },
   {
    "duration": 17,
    "start_time": "2022-12-07T10:05:06.200Z"
   },
   {
    "duration": 9,
    "start_time": "2022-12-07T10:05:06.219Z"
   },
   {
    "duration": 16,
    "start_time": "2022-12-07T10:05:08.547Z"
   },
   {
    "duration": 15,
    "start_time": "2022-12-07T10:05:19.969Z"
   },
   {
    "duration": 3,
    "start_time": "2022-12-07T10:11:15.310Z"
   },
   {
    "duration": 53,
    "start_time": "2022-12-07T10:11:15.316Z"
   },
   {
    "duration": 17,
    "start_time": "2022-12-07T10:11:15.371Z"
   },
   {
    "duration": 23,
    "start_time": "2022-12-07T10:11:15.391Z"
   },
   {
    "duration": 1072,
    "start_time": "2022-12-07T10:11:15.416Z"
   },
   {
    "duration": 18,
    "start_time": "2022-12-07T10:11:16.490Z"
   },
   {
    "duration": 8,
    "start_time": "2022-12-07T10:11:16.510Z"
   },
   {
    "duration": 6,
    "start_time": "2022-12-07T10:11:16.520Z"
   },
   {
    "duration": 10,
    "start_time": "2022-12-07T10:11:16.529Z"
   },
   {
    "duration": 7,
    "start_time": "2022-12-07T10:11:16.541Z"
   },
   {
    "duration": 47,
    "start_time": "2022-12-07T10:11:16.550Z"
   },
   {
    "duration": 5,
    "start_time": "2022-12-07T10:11:16.599Z"
   },
   {
    "duration": 8,
    "start_time": "2022-12-07T10:11:16.606Z"
   },
   {
    "duration": 181,
    "start_time": "2022-12-07T10:11:16.615Z"
   },
   {
    "duration": 6,
    "start_time": "2022-12-07T10:11:16.798Z"
   },
   {
    "duration": 8,
    "start_time": "2022-12-07T10:11:16.806Z"
   },
   {
    "duration": 8,
    "start_time": "2022-12-07T10:11:16.815Z"
   },
   {
    "duration": 43,
    "start_time": "2022-12-07T10:11:16.824Z"
   },
   {
    "duration": 9,
    "start_time": "2022-12-07T10:11:16.869Z"
   },
   {
    "duration": 850,
    "start_time": "2022-12-07T10:11:16.895Z"
   },
   {
    "duration": 6,
    "start_time": "2022-12-07T10:11:17.746Z"
   },
   {
    "duration": 6,
    "start_time": "2022-12-07T10:11:17.753Z"
   },
   {
    "duration": 2156,
    "start_time": "2022-12-07T10:11:17.762Z"
   },
   {
    "duration": 291,
    "start_time": "2022-12-07T10:11:19.923Z"
   },
   {
    "duration": 405,
    "start_time": "2022-12-07T10:11:20.216Z"
   },
   {
    "duration": 6,
    "start_time": "2022-12-07T10:11:20.623Z"
   },
   {
    "duration": 20,
    "start_time": "2022-12-07T10:11:20.630Z"
   },
   {
    "duration": 9,
    "start_time": "2022-12-07T10:11:20.652Z"
   },
   {
    "duration": 49,
    "start_time": "2022-12-07T10:11:20.662Z"
   },
   {
    "duration": 25,
    "start_time": "2022-12-07T10:11:20.713Z"
   },
   {
    "duration": 24,
    "start_time": "2022-12-07T10:11:20.740Z"
   },
   {
    "duration": 48,
    "start_time": "2022-12-07T10:11:20.766Z"
   },
   {
    "duration": 19,
    "start_time": "2022-12-07T10:11:20.815Z"
   },
   {
    "duration": 9,
    "start_time": "2022-12-07T10:11:20.836Z"
   },
   {
    "duration": 9,
    "start_time": "2022-12-07T10:11:20.846Z"
   },
   {
    "duration": 12,
    "start_time": "2022-12-07T10:12:13.588Z"
   },
   {
    "duration": 11,
    "start_time": "2022-12-07T10:12:37.433Z"
   },
   {
    "duration": 12,
    "start_time": "2022-12-07T10:12:46.504Z"
   },
   {
    "duration": 9,
    "start_time": "2022-12-07T10:12:57.540Z"
   },
   {
    "duration": 8,
    "start_time": "2022-12-07T10:13:07.551Z"
   },
   {
    "duration": 8,
    "start_time": "2022-12-07T10:14:20.075Z"
   },
   {
    "duration": 3,
    "start_time": "2022-12-07T10:18:36.038Z"
   },
   {
    "duration": 58,
    "start_time": "2022-12-07T10:18:36.044Z"
   },
   {
    "duration": 17,
    "start_time": "2022-12-07T10:18:36.104Z"
   },
   {
    "duration": 17,
    "start_time": "2022-12-07T10:18:36.122Z"
   },
   {
    "duration": 954,
    "start_time": "2022-12-07T10:18:36.142Z"
   },
   {
    "duration": 15,
    "start_time": "2022-12-07T10:18:37.098Z"
   },
   {
    "duration": 8,
    "start_time": "2022-12-07T10:18:37.115Z"
   },
   {
    "duration": 5,
    "start_time": "2022-12-07T10:18:37.125Z"
   },
   {
    "duration": 14,
    "start_time": "2022-12-07T10:18:37.132Z"
   },
   {
    "duration": 7,
    "start_time": "2022-12-07T10:18:37.149Z"
   },
   {
    "duration": 50,
    "start_time": "2022-12-07T10:18:37.158Z"
   },
   {
    "duration": 5,
    "start_time": "2022-12-07T10:18:37.210Z"
   },
   {
    "duration": 20,
    "start_time": "2022-12-07T10:18:37.217Z"
   },
   {
    "duration": 166,
    "start_time": "2022-12-07T10:18:37.240Z"
   },
   {
    "duration": 7,
    "start_time": "2022-12-07T10:18:37.407Z"
   },
   {
    "duration": 3,
    "start_time": "2022-12-07T10:18:37.415Z"
   },
   {
    "duration": 10,
    "start_time": "2022-12-07T10:18:37.419Z"
   },
   {
    "duration": 40,
    "start_time": "2022-12-07T10:18:37.430Z"
   },
   {
    "duration": 0,
    "start_time": "2022-12-07T10:18:37.472Z"
   },
   {
    "duration": 0,
    "start_time": "2022-12-07T10:18:37.473Z"
   },
   {
    "duration": 9,
    "start_time": "2022-12-07T10:19:04.710Z"
   },
   {
    "duration": 874,
    "start_time": "2022-12-07T10:19:09.520Z"
   },
   {
    "duration": 6,
    "start_time": "2022-12-07T10:19:10.396Z"
   },
   {
    "duration": 5,
    "start_time": "2022-12-07T10:22:46.504Z"
   },
   {
    "duration": 2208,
    "start_time": "2022-12-07T10:22:46.973Z"
   },
   {
    "duration": 236,
    "start_time": "2022-12-07T10:22:49.836Z"
   },
   {
    "duration": 2,
    "start_time": "2022-12-07T10:23:38.162Z"
   },
   {
    "duration": 1706,
    "start_time": "2022-12-07T10:23:39.513Z"
   },
   {
    "duration": 3,
    "start_time": "2022-12-07T10:30:43.540Z"
   },
   {
    "duration": 6,
    "start_time": "2022-12-07T10:30:50.437Z"
   },
   {
    "duration": 4,
    "start_time": "2022-12-07T10:30:59.272Z"
   },
   {
    "duration": 1120,
    "start_time": "2022-12-07T10:32:40.311Z"
   },
   {
    "duration": 52,
    "start_time": "2022-12-07T10:32:41.433Z"
   },
   {
    "duration": 20,
    "start_time": "2022-12-07T10:32:41.487Z"
   },
   {
    "duration": 15,
    "start_time": "2022-12-07T10:32:41.510Z"
   },
   {
    "duration": 965,
    "start_time": "2022-12-07T10:32:41.527Z"
   },
   {
    "duration": 16,
    "start_time": "2022-12-07T10:32:42.495Z"
   },
   {
    "duration": 9,
    "start_time": "2022-12-07T10:32:42.513Z"
   },
   {
    "duration": 8,
    "start_time": "2022-12-07T10:32:42.524Z"
   },
   {
    "duration": 14,
    "start_time": "2022-12-07T10:32:42.534Z"
   },
   {
    "duration": 8,
    "start_time": "2022-12-07T10:32:42.551Z"
   },
   {
    "duration": 44,
    "start_time": "2022-12-07T10:32:42.560Z"
   },
   {
    "duration": 5,
    "start_time": "2022-12-07T10:32:42.606Z"
   },
   {
    "duration": 3,
    "start_time": "2022-12-07T10:32:42.613Z"
   },
   {
    "duration": 181,
    "start_time": "2022-12-07T10:32:42.618Z"
   },
   {
    "duration": 8,
    "start_time": "2022-12-07T10:32:42.801Z"
   },
   {
    "duration": 3,
    "start_time": "2022-12-07T10:32:42.810Z"
   },
   {
    "duration": 10,
    "start_time": "2022-12-07T10:32:42.814Z"
   },
   {
    "duration": 7,
    "start_time": "2022-12-07T10:32:42.826Z"
   },
   {
    "duration": 837,
    "start_time": "2022-12-07T10:32:42.835Z"
   },
   {
    "duration": 6,
    "start_time": "2022-12-07T10:32:43.674Z"
   },
   {
    "duration": 17,
    "start_time": "2022-12-07T10:32:43.681Z"
   },
   {
    "duration": 1884,
    "start_time": "2022-12-07T10:32:43.700Z"
   },
   {
    "duration": 238,
    "start_time": "2022-12-07T10:32:45.585Z"
   },
   {
    "duration": 311,
    "start_time": "2022-12-07T10:32:45.825Z"
   },
   {
    "duration": 6,
    "start_time": "2022-12-07T10:32:46.138Z"
   },
   {
    "duration": 20,
    "start_time": "2022-12-07T10:32:46.146Z"
   },
   {
    "duration": 8,
    "start_time": "2022-12-07T10:32:46.168Z"
   },
   {
    "duration": 20,
    "start_time": "2022-12-07T10:32:46.199Z"
   },
   {
    "duration": 17,
    "start_time": "2022-12-07T10:32:46.220Z"
   },
   {
    "duration": 17,
    "start_time": "2022-12-07T10:32:46.239Z"
   },
   {
    "duration": 57,
    "start_time": "2022-12-07T10:32:46.258Z"
   },
   {
    "duration": 20,
    "start_time": "2022-12-07T10:32:46.317Z"
   },
   {
    "duration": 8,
    "start_time": "2022-12-07T10:32:46.338Z"
   },
   {
    "duration": 11,
    "start_time": "2022-12-07T10:32:46.348Z"
   },
   {
    "duration": 294,
    "start_time": "2022-12-07T10:36:39.419Z"
   },
   {
    "duration": 301,
    "start_time": "2022-12-07T10:37:01.380Z"
   },
   {
    "duration": 477,
    "start_time": "2022-12-07T10:37:10.038Z"
   },
   {
    "duration": 285,
    "start_time": "2022-12-07T10:37:24.266Z"
   },
   {
    "duration": 290,
    "start_time": "2022-12-07T10:37:40.608Z"
   },
   {
    "duration": 285,
    "start_time": "2022-12-07T10:37:52.231Z"
   },
   {
    "duration": 282,
    "start_time": "2022-12-07T10:38:18.042Z"
   },
   {
    "duration": 288,
    "start_time": "2022-12-07T10:38:41.872Z"
   },
   {
    "duration": 390,
    "start_time": "2022-12-07T10:39:34.577Z"
   },
   {
    "duration": 295,
    "start_time": "2022-12-07T10:40:34.463Z"
   },
   {
    "duration": 7,
    "start_time": "2022-12-07T10:42:03.817Z"
   },
   {
    "duration": 302,
    "start_time": "2022-12-07T10:43:04.905Z"
   },
   {
    "duration": 10,
    "start_time": "2022-12-07T10:43:19.599Z"
   },
   {
    "duration": 10,
    "start_time": "2022-12-07T10:43:31.490Z"
   },
   {
    "duration": 12,
    "start_time": "2022-12-07T10:43:33.903Z"
   },
   {
    "duration": 7,
    "start_time": "2022-12-07T10:43:39.435Z"
   },
   {
    "duration": 8,
    "start_time": "2022-12-07T10:51:08.778Z"
   },
   {
    "duration": 8,
    "start_time": "2022-12-07T10:51:34.478Z"
   },
   {
    "duration": 12,
    "start_time": "2022-12-07T10:54:25.337Z"
   },
   {
    "duration": 9,
    "start_time": "2022-12-07T10:54:46.026Z"
   },
   {
    "duration": 3,
    "start_time": "2022-12-07T10:56:52.540Z"
   },
   {
    "duration": 61,
    "start_time": "2022-12-07T10:56:52.545Z"
   },
   {
    "duration": 25,
    "start_time": "2022-12-07T10:56:52.609Z"
   },
   {
    "duration": 15,
    "start_time": "2022-12-07T10:56:52.636Z"
   },
   {
    "duration": 1085,
    "start_time": "2022-12-07T10:56:52.653Z"
   },
   {
    "duration": 17,
    "start_time": "2022-12-07T10:56:53.740Z"
   },
   {
    "duration": 15,
    "start_time": "2022-12-07T10:56:53.759Z"
   },
   {
    "duration": 10,
    "start_time": "2022-12-07T10:56:53.776Z"
   },
   {
    "duration": 14,
    "start_time": "2022-12-07T10:56:53.796Z"
   },
   {
    "duration": 38,
    "start_time": "2022-12-07T10:56:53.812Z"
   },
   {
    "duration": 17,
    "start_time": "2022-12-07T10:56:53.852Z"
   },
   {
    "duration": 6,
    "start_time": "2022-12-07T10:56:53.871Z"
   },
   {
    "duration": 22,
    "start_time": "2022-12-07T10:56:53.878Z"
   },
   {
    "duration": 184,
    "start_time": "2022-12-07T10:56:53.902Z"
   },
   {
    "duration": 14,
    "start_time": "2022-12-07T10:56:54.088Z"
   },
   {
    "duration": 3,
    "start_time": "2022-12-07T10:56:54.104Z"
   },
   {
    "duration": 13,
    "start_time": "2022-12-07T10:56:54.108Z"
   },
   {
    "duration": 10,
    "start_time": "2022-12-07T10:56:54.123Z"
   },
   {
    "duration": 1008,
    "start_time": "2022-12-07T10:56:54.135Z"
   },
   {
    "duration": 6,
    "start_time": "2022-12-07T10:56:55.146Z"
   },
   {
    "duration": 7,
    "start_time": "2022-12-07T10:56:55.154Z"
   },
   {
    "duration": 2143,
    "start_time": "2022-12-07T10:56:55.163Z"
   },
   {
    "duration": 269,
    "start_time": "2022-12-07T10:56:57.308Z"
   },
   {
    "duration": 349,
    "start_time": "2022-12-07T10:56:57.579Z"
   },
   {
    "duration": 5,
    "start_time": "2022-12-07T10:56:57.930Z"
   },
   {
    "duration": 11,
    "start_time": "2022-12-07T10:56:57.937Z"
   },
   {
    "duration": 7,
    "start_time": "2022-12-07T10:56:57.950Z"
   },
   {
    "duration": 45,
    "start_time": "2022-12-07T10:56:57.958Z"
   },
   {
    "duration": 24,
    "start_time": "2022-12-07T10:56:58.007Z"
   },
   {
    "duration": 18,
    "start_time": "2022-12-07T10:56:58.033Z"
   },
   {
    "duration": 56,
    "start_time": "2022-12-07T10:56:58.052Z"
   },
   {
    "duration": 20,
    "start_time": "2022-12-07T10:56:58.111Z"
   },
   {
    "duration": 9,
    "start_time": "2022-12-07T10:56:58.133Z"
   },
   {
    "duration": 10,
    "start_time": "2022-12-07T10:56:58.144Z"
   },
   {
    "duration": 1338,
    "start_time": "2022-12-07T18:33:51.504Z"
   },
   {
    "duration": 185,
    "start_time": "2022-12-07T18:33:52.844Z"
   },
   {
    "duration": 21,
    "start_time": "2022-12-07T18:33:53.031Z"
   },
   {
    "duration": 14,
    "start_time": "2022-12-07T18:33:53.054Z"
   },
   {
    "duration": 970,
    "start_time": "2022-12-07T18:33:53.069Z"
   },
   {
    "duration": 15,
    "start_time": "2022-12-07T18:33:54.040Z"
   },
   {
    "duration": 7,
    "start_time": "2022-12-07T18:33:54.057Z"
   },
   {
    "duration": 5,
    "start_time": "2022-12-07T18:33:54.065Z"
   },
   {
    "duration": 13,
    "start_time": "2022-12-07T18:33:54.072Z"
   },
   {
    "duration": 25,
    "start_time": "2022-12-07T18:33:54.088Z"
   },
   {
    "duration": 15,
    "start_time": "2022-12-07T18:33:54.115Z"
   },
   {
    "duration": 5,
    "start_time": "2022-12-07T18:33:54.132Z"
   },
   {
    "duration": 8,
    "start_time": "2022-12-07T18:33:54.138Z"
   },
   {
    "duration": 190,
    "start_time": "2022-12-07T18:33:54.147Z"
   },
   {
    "duration": 7,
    "start_time": "2022-12-07T18:33:54.339Z"
   },
   {
    "duration": 3,
    "start_time": "2022-12-07T18:33:54.348Z"
   },
   {
    "duration": 8,
    "start_time": "2022-12-07T18:33:54.352Z"
   },
   {
    "duration": 8,
    "start_time": "2022-12-07T18:33:54.362Z"
   },
   {
    "duration": 897,
    "start_time": "2022-12-07T18:33:54.371Z"
   },
   {
    "duration": 4,
    "start_time": "2022-12-07T18:33:55.270Z"
   },
   {
    "duration": 11,
    "start_time": "2022-12-07T18:33:55.276Z"
   },
   {
    "duration": 1897,
    "start_time": "2022-12-07T18:33:55.289Z"
   },
   {
    "duration": 111,
    "start_time": "2022-12-07T18:34:06.654Z"
   },
   {
    "duration": 3,
    "start_time": "2022-12-07T18:34:13.979Z"
   },
   {
    "duration": 51,
    "start_time": "2022-12-07T18:34:13.986Z"
   },
   {
    "duration": 16,
    "start_time": "2022-12-07T18:34:14.039Z"
   },
   {
    "duration": 14,
    "start_time": "2022-12-07T18:34:14.057Z"
   },
   {
    "duration": 995,
    "start_time": "2022-12-07T18:34:14.073Z"
   },
   {
    "duration": 16,
    "start_time": "2022-12-07T18:34:15.070Z"
   },
   {
    "duration": 7,
    "start_time": "2022-12-07T18:34:15.088Z"
   },
   {
    "duration": 19,
    "start_time": "2022-12-07T18:34:15.096Z"
   },
   {
    "duration": 11,
    "start_time": "2022-12-07T18:34:15.117Z"
   },
   {
    "duration": 8,
    "start_time": "2022-12-07T18:34:15.130Z"
   },
   {
    "duration": 16,
    "start_time": "2022-12-07T18:34:15.141Z"
   },
   {
    "duration": 4,
    "start_time": "2022-12-07T18:34:15.159Z"
   },
   {
    "duration": 6,
    "start_time": "2022-12-07T18:34:15.164Z"
   },
   {
    "duration": 189,
    "start_time": "2022-12-07T18:34:15.171Z"
   },
   {
    "duration": 7,
    "start_time": "2022-12-07T18:34:15.362Z"
   },
   {
    "duration": 5,
    "start_time": "2022-12-07T18:34:15.370Z"
   },
   {
    "duration": 12,
    "start_time": "2022-12-07T18:34:15.376Z"
   },
   {
    "duration": 26,
    "start_time": "2022-12-07T18:34:15.389Z"
   },
   {
    "duration": 898,
    "start_time": "2022-12-07T18:34:15.417Z"
   },
   {
    "duration": 7,
    "start_time": "2022-12-07T18:34:16.317Z"
   },
   {
    "duration": 7,
    "start_time": "2022-12-07T18:34:16.325Z"
   },
   {
    "duration": 1981,
    "start_time": "2022-12-07T18:34:16.334Z"
   },
   {
    "duration": 220,
    "start_time": "2022-12-07T18:34:21.629Z"
   },
   {
    "duration": 20,
    "start_time": "2022-12-07T18:34:24.095Z"
   },
   {
    "duration": 14,
    "start_time": "2022-12-07T18:34:47.029Z"
   },
   {
    "duration": 233,
    "start_time": "2022-12-07T18:34:52.524Z"
   },
   {
    "duration": 394,
    "start_time": "2022-12-07T18:35:13.221Z"
   },
   {
    "duration": 246,
    "start_time": "2022-12-07T18:38:15.252Z"
   },
   {
    "duration": 375,
    "start_time": "2022-12-07T18:39:50.162Z"
   },
   {
    "duration": 249,
    "start_time": "2022-12-07T18:39:54.592Z"
   },
   {
    "duration": 224,
    "start_time": "2022-12-07T18:39:58.054Z"
   },
   {
    "duration": 240,
    "start_time": "2022-12-07T18:40:03.096Z"
   },
   {
    "duration": 277,
    "start_time": "2022-12-07T18:40:29.769Z"
   },
   {
    "duration": 365,
    "start_time": "2022-12-07T18:40:49.193Z"
   },
   {
    "duration": 286,
    "start_time": "2022-12-07T18:40:52.782Z"
   },
   {
    "duration": 297,
    "start_time": "2022-12-07T18:41:02.271Z"
   },
   {
    "duration": 305,
    "start_time": "2022-12-07T18:41:11.426Z"
   },
   {
    "duration": 297,
    "start_time": "2022-12-07T18:41:27.436Z"
   },
   {
    "duration": 182,
    "start_time": "2022-12-07T18:42:04.512Z"
   },
   {
    "duration": 13,
    "start_time": "2022-12-07T18:43:34.274Z"
   },
   {
    "duration": 6,
    "start_time": "2022-12-07T18:43:52.318Z"
   },
   {
    "duration": 15,
    "start_time": "2022-12-07T18:44:32.668Z"
   },
   {
    "duration": 14,
    "start_time": "2022-12-07T18:47:12.398Z"
   },
   {
    "duration": 12,
    "start_time": "2022-12-07T18:47:18.457Z"
   },
   {
    "duration": 14,
    "start_time": "2022-12-07T18:47:24.141Z"
   },
   {
    "duration": 327,
    "start_time": "2022-12-07T18:47:30.049Z"
   },
   {
    "duration": 402,
    "start_time": "2022-12-07T18:48:14.993Z"
   },
   {
    "duration": 308,
    "start_time": "2022-12-07T18:48:22.119Z"
   },
   {
    "duration": 308,
    "start_time": "2022-12-07T18:48:41.761Z"
   },
   {
    "duration": 297,
    "start_time": "2022-12-07T18:48:54.292Z"
   },
   {
    "duration": 9,
    "start_time": "2022-12-07T18:58:30.934Z"
   },
   {
    "duration": 12,
    "start_time": "2022-12-07T18:58:37.580Z"
   },
   {
    "duration": 19,
    "start_time": "2022-12-07T18:59:01.564Z"
   },
   {
    "duration": 3,
    "start_time": "2022-12-07T18:59:20.682Z"
   },
   {
    "duration": 51,
    "start_time": "2022-12-07T18:59:20.688Z"
   },
   {
    "duration": 16,
    "start_time": "2022-12-07T18:59:20.741Z"
   },
   {
    "duration": 16,
    "start_time": "2022-12-07T18:59:20.759Z"
   },
   {
    "duration": 1106,
    "start_time": "2022-12-07T18:59:20.777Z"
   },
   {
    "duration": 15,
    "start_time": "2022-12-07T18:59:21.885Z"
   },
   {
    "duration": 16,
    "start_time": "2022-12-07T18:59:21.901Z"
   },
   {
    "duration": 6,
    "start_time": "2022-12-07T18:59:21.919Z"
   },
   {
    "duration": 16,
    "start_time": "2022-12-07T18:59:21.927Z"
   },
   {
    "duration": 6,
    "start_time": "2022-12-07T18:59:21.945Z"
   },
   {
    "duration": 14,
    "start_time": "2022-12-07T18:59:21.953Z"
   },
   {
    "duration": 4,
    "start_time": "2022-12-07T18:59:21.969Z"
   },
   {
    "duration": 3,
    "start_time": "2022-12-07T18:59:21.975Z"
   },
   {
    "duration": 197,
    "start_time": "2022-12-07T18:59:21.980Z"
   },
   {
    "duration": 7,
    "start_time": "2022-12-07T18:59:22.179Z"
   },
   {
    "duration": 3,
    "start_time": "2022-12-07T18:59:22.187Z"
   },
   {
    "duration": 21,
    "start_time": "2022-12-07T18:59:22.192Z"
   },
   {
    "duration": 7,
    "start_time": "2022-12-07T18:59:22.215Z"
   },
   {
    "duration": 789,
    "start_time": "2022-12-07T18:59:22.224Z"
   },
   {
    "duration": 5,
    "start_time": "2022-12-07T18:59:23.014Z"
   },
   {
    "duration": 9,
    "start_time": "2022-12-07T18:59:23.020Z"
   },
   {
    "duration": 1979,
    "start_time": "2022-12-07T18:59:23.030Z"
   },
   {
    "duration": 309,
    "start_time": "2022-12-07T18:59:25.012Z"
   },
   {
    "duration": 308,
    "start_time": "2022-12-07T18:59:25.323Z"
   },
   {
    "duration": 5,
    "start_time": "2022-12-07T18:59:25.633Z"
   },
   {
    "duration": 13,
    "start_time": "2022-12-07T18:59:25.639Z"
   },
   {
    "duration": 11,
    "start_time": "2022-12-07T18:59:25.653Z"
   },
   {
    "duration": 12,
    "start_time": "2022-12-07T18:59:25.666Z"
   },
   {
    "duration": 19,
    "start_time": "2022-12-07T18:59:28.948Z"
   },
   {
    "duration": 17,
    "start_time": "2022-12-07T19:02:53.474Z"
   },
   {
    "duration": 3400,
    "start_time": "2022-12-07T19:03:06.281Z"
   },
   {
    "duration": 12,
    "start_time": "2022-12-07T19:03:23.014Z"
   },
   {
    "duration": 6,
    "start_time": "2022-12-07T19:03:32.772Z"
   },
   {
    "duration": 12,
    "start_time": "2022-12-07T19:03:53.762Z"
   },
   {
    "duration": 14,
    "start_time": "2022-12-07T19:04:17.984Z"
   },
   {
    "duration": 12,
    "start_time": "2022-12-07T19:04:22.709Z"
   },
   {
    "duration": 8,
    "start_time": "2022-12-07T19:05:46.573Z"
   },
   {
    "duration": 9,
    "start_time": "2022-12-07T19:05:52.735Z"
   },
   {
    "duration": 10,
    "start_time": "2022-12-07T19:05:55.014Z"
   },
   {
    "duration": 9,
    "start_time": "2022-12-07T19:06:01.415Z"
   },
   {
    "duration": 8,
    "start_time": "2022-12-07T19:06:08.203Z"
   },
   {
    "duration": 9,
    "start_time": "2022-12-07T19:06:43.880Z"
   },
   {
    "duration": 107,
    "start_time": "2022-12-07T19:07:00.138Z"
   },
   {
    "duration": 105,
    "start_time": "2022-12-07T19:07:09.534Z"
   },
   {
    "duration": 158,
    "start_time": "2022-12-07T19:07:30.502Z"
   },
   {
    "duration": 1779,
    "start_time": "2022-12-07T19:07:45.547Z"
   },
   {
    "duration": 10,
    "start_time": "2022-12-07T19:07:56.030Z"
   },
   {
    "duration": 1697,
    "start_time": "2022-12-07T19:08:05.020Z"
   },
   {
    "duration": 1789,
    "start_time": "2022-12-07T19:08:12.643Z"
   },
   {
    "duration": 15,
    "start_time": "2022-12-07T19:08:23.901Z"
   },
   {
    "duration": 9,
    "start_time": "2022-12-07T19:08:29.073Z"
   },
   {
    "duration": 12,
    "start_time": "2022-12-07T19:08:36.190Z"
   },
   {
    "duration": 182,
    "start_time": "2022-12-07T19:08:48.886Z"
   },
   {
    "duration": 14,
    "start_time": "2022-12-07T19:09:23.673Z"
   },
   {
    "duration": 421,
    "start_time": "2022-12-07T19:09:26.378Z"
   },
   {
    "duration": 268,
    "start_time": "2022-12-07T19:09:51.427Z"
   },
   {
    "duration": 302,
    "start_time": "2022-12-07T19:10:22.649Z"
   },
   {
    "duration": 157,
    "start_time": "2022-12-07T19:10:28.734Z"
   },
   {
    "duration": 300,
    "start_time": "2022-12-07T19:10:31.721Z"
   },
   {
    "duration": 317,
    "start_time": "2022-12-07T19:10:35.760Z"
   },
   {
    "duration": 316,
    "start_time": "2022-12-07T19:10:47.320Z"
   },
   {
    "duration": 11,
    "start_time": "2022-12-07T19:12:09.573Z"
   },
   {
    "duration": 313,
    "start_time": "2022-12-07T19:12:36.157Z"
   },
   {
    "duration": 158,
    "start_time": "2022-12-07T19:14:05.311Z"
   },
   {
    "duration": 338,
    "start_time": "2022-12-07T19:14:12.941Z"
   },
   {
    "duration": 317,
    "start_time": "2022-12-07T19:14:29.716Z"
   },
   {
    "duration": 5,
    "start_time": "2022-12-07T19:17:01.001Z"
   },
   {
    "duration": 18,
    "start_time": "2022-12-07T19:17:09.070Z"
   },
   {
    "duration": 1390,
    "start_time": "2022-12-08T07:59:32.728Z"
   },
   {
    "duration": 128,
    "start_time": "2022-12-08T07:59:34.121Z"
   },
   {
    "duration": 22,
    "start_time": "2022-12-08T07:59:34.251Z"
   },
   {
    "duration": 35,
    "start_time": "2022-12-08T07:59:34.275Z"
   },
   {
    "duration": 1006,
    "start_time": "2022-12-08T07:59:34.312Z"
   },
   {
    "duration": 15,
    "start_time": "2022-12-08T07:59:35.320Z"
   },
   {
    "duration": 35,
    "start_time": "2022-12-08T07:59:35.337Z"
   },
   {
    "duration": 41,
    "start_time": "2022-12-08T07:59:35.374Z"
   },
   {
    "duration": 27,
    "start_time": "2022-12-08T07:59:35.417Z"
   },
   {
    "duration": 32,
    "start_time": "2022-12-08T07:59:35.447Z"
   },
   {
    "duration": 50,
    "start_time": "2022-12-08T07:59:35.481Z"
   },
   {
    "duration": 24,
    "start_time": "2022-12-08T07:59:35.533Z"
   },
   {
    "duration": 9,
    "start_time": "2022-12-08T07:59:35.559Z"
   },
   {
    "duration": 175,
    "start_time": "2022-12-08T07:59:35.570Z"
   },
   {
    "duration": 13,
    "start_time": "2022-12-08T07:59:35.747Z"
   },
   {
    "duration": 12,
    "start_time": "2022-12-08T07:59:35.762Z"
   },
   {
    "duration": 27,
    "start_time": "2022-12-08T07:59:35.776Z"
   },
   {
    "duration": 18,
    "start_time": "2022-12-08T07:59:35.804Z"
   },
   {
    "duration": 985,
    "start_time": "2022-12-08T07:59:35.824Z"
   },
   {
    "duration": 6,
    "start_time": "2022-12-08T07:59:36.811Z"
   },
   {
    "duration": 17,
    "start_time": "2022-12-08T07:59:36.819Z"
   },
   {
    "duration": 1857,
    "start_time": "2022-12-08T07:59:36.838Z"
   },
   {
    "duration": 331,
    "start_time": "2022-12-08T07:59:38.697Z"
   },
   {
    "duration": 325,
    "start_time": "2022-12-08T07:59:39.030Z"
   },
   {
    "duration": 7,
    "start_time": "2022-12-08T07:59:39.357Z"
   },
   {
    "duration": 14,
    "start_time": "2022-12-08T07:59:39.365Z"
   },
   {
    "duration": 9,
    "start_time": "2022-12-08T07:59:39.381Z"
   },
   {
    "duration": 141,
    "start_time": "2022-12-08T07:59:39.395Z"
   },
   {
    "duration": 0,
    "start_time": "2022-12-08T07:59:39.538Z"
   },
   {
    "duration": 0,
    "start_time": "2022-12-08T07:59:39.540Z"
   },
   {
    "duration": 0,
    "start_time": "2022-12-08T07:59:39.541Z"
   },
   {
    "duration": 0,
    "start_time": "2022-12-08T07:59:39.555Z"
   },
   {
    "duration": 0,
    "start_time": "2022-12-08T07:59:39.556Z"
   },
   {
    "duration": 0,
    "start_time": "2022-12-08T07:59:39.558Z"
   },
   {
    "duration": 0,
    "start_time": "2022-12-08T07:59:39.559Z"
   },
   {
    "duration": 0,
    "start_time": "2022-12-08T07:59:39.561Z"
   },
   {
    "duration": 0,
    "start_time": "2022-12-08T07:59:39.562Z"
   },
   {
    "duration": 12,
    "start_time": "2022-12-08T08:00:10.819Z"
   },
   {
    "duration": 11,
    "start_time": "2022-12-08T08:00:18.341Z"
   },
   {
    "duration": 14,
    "start_time": "2022-12-08T08:00:18.353Z"
   },
   {
    "duration": 0,
    "start_time": "2022-12-08T08:00:18.369Z"
   },
   {
    "duration": 0,
    "start_time": "2022-12-08T08:00:18.371Z"
   },
   {
    "duration": 0,
    "start_time": "2022-12-08T08:00:18.372Z"
   },
   {
    "duration": 0,
    "start_time": "2022-12-08T08:00:18.374Z"
   },
   {
    "duration": 0,
    "start_time": "2022-12-08T08:00:18.375Z"
   },
   {
    "duration": 0,
    "start_time": "2022-12-08T08:00:18.377Z"
   },
   {
    "duration": 0,
    "start_time": "2022-12-08T08:00:18.379Z"
   },
   {
    "duration": 0,
    "start_time": "2022-12-08T08:00:18.380Z"
   },
   {
    "duration": 348,
    "start_time": "2022-12-08T08:00:43.563Z"
   },
   {
    "duration": 18,
    "start_time": "2022-12-08T08:00:47.663Z"
   },
   {
    "duration": 18,
    "start_time": "2022-12-08T08:00:48.338Z"
   },
   {
    "duration": 21,
    "start_time": "2022-12-08T08:00:49.056Z"
   },
   {
    "duration": 21,
    "start_time": "2022-12-08T08:00:50.814Z"
   },
   {
    "duration": 3,
    "start_time": "2022-12-08T08:00:53.522Z"
   },
   {
    "duration": 18,
    "start_time": "2022-12-08T08:00:53.846Z"
   },
   {
    "duration": 10,
    "start_time": "2022-12-08T08:00:55.897Z"
   },
   {
    "duration": 10,
    "start_time": "2022-12-08T08:00:57.372Z"
   },
   {
    "duration": 310,
    "start_time": "2022-12-08T08:13:12.245Z"
   },
   {
    "duration": 322,
    "start_time": "2022-12-08T08:13:31.128Z"
   },
   {
    "duration": 319,
    "start_time": "2022-12-08T08:14:24.999Z"
   },
   {
    "duration": 2,
    "start_time": "2022-12-08T08:14:55.065Z"
   },
   {
    "duration": 10,
    "start_time": "2022-12-08T08:20:07.367Z"
   },
   {
    "duration": 2,
    "start_time": "2022-12-08T08:20:08.628Z"
   },
   {
    "duration": 332,
    "start_time": "2022-12-08T08:20:09.799Z"
   },
   {
    "duration": 12,
    "start_time": "2022-12-08T08:20:13.931Z"
   },
   {
    "duration": 421,
    "start_time": "2022-12-08T08:20:22.395Z"
   },
   {
    "duration": 11,
    "start_time": "2022-12-08T08:23:32.501Z"
   },
   {
    "duration": 807,
    "start_time": "2022-12-08T08:23:33.780Z"
   },
   {
    "duration": 298,
    "start_time": "2022-12-08T08:23:43.090Z"
   },
   {
    "duration": 3,
    "start_time": "2022-12-08T09:51:03.790Z"
   },
   {
    "duration": 339,
    "start_time": "2022-12-08T09:51:05.848Z"
   },
   {
    "duration": 11,
    "start_time": "2022-12-08T09:51:15.335Z"
   },
   {
    "duration": 341,
    "start_time": "2022-12-08T09:51:16.931Z"
   },
   {
    "duration": 3,
    "start_time": "2022-12-08T09:53:02.203Z"
   },
   {
    "duration": 330,
    "start_time": "2022-12-08T09:53:08.258Z"
   },
   {
    "duration": 3,
    "start_time": "2022-12-08T09:53:47.129Z"
   },
   {
    "duration": 352,
    "start_time": "2022-12-08T09:53:47.525Z"
   },
   {
    "duration": 11,
    "start_time": "2022-12-08T09:53:47.940Z"
   },
   {
    "duration": 325,
    "start_time": "2022-12-08T09:53:48.365Z"
   },
   {
    "duration": 10,
    "start_time": "2022-12-08T09:53:48.779Z"
   },
   {
    "duration": 347,
    "start_time": "2022-12-08T09:53:49.195Z"
   },
   {
    "duration": 386,
    "start_time": "2022-12-08T10:05:26.559Z"
   },
   {
    "duration": 424,
    "start_time": "2022-12-08T10:05:34.424Z"
   },
   {
    "duration": 359,
    "start_time": "2022-12-08T10:05:38.371Z"
   },
   {
    "duration": 4,
    "start_time": "2022-12-08T10:06:24.666Z"
   },
   {
    "duration": 496,
    "start_time": "2022-12-08T10:06:25.162Z"
   },
   {
    "duration": 388,
    "start_time": "2022-12-08T10:06:25.840Z"
   },
   {
    "duration": 393,
    "start_time": "2022-12-08T10:06:26.354Z"
   },
   {
    "duration": 3,
    "start_time": "2022-12-08T10:07:00.921Z"
   },
   {
    "duration": 368,
    "start_time": "2022-12-08T10:07:01.295Z"
   },
   {
    "duration": 382,
    "start_time": "2022-12-08T10:07:01.665Z"
   },
   {
    "duration": 387,
    "start_time": "2022-12-08T10:07:02.049Z"
   },
   {
    "duration": 4,
    "start_time": "2022-12-08T10:15:40.910Z"
   },
   {
    "duration": 58,
    "start_time": "2022-12-08T10:15:40.916Z"
   },
   {
    "duration": 19,
    "start_time": "2022-12-08T10:15:40.976Z"
   },
   {
    "duration": 32,
    "start_time": "2022-12-08T10:15:40.997Z"
   },
   {
    "duration": 973,
    "start_time": "2022-12-08T10:15:41.032Z"
   },
   {
    "duration": 16,
    "start_time": "2022-12-08T10:15:42.007Z"
   },
   {
    "duration": 21,
    "start_time": "2022-12-08T10:15:42.025Z"
   },
   {
    "duration": 8,
    "start_time": "2022-12-08T10:15:42.049Z"
   },
   {
    "duration": 25,
    "start_time": "2022-12-08T10:15:42.059Z"
   },
   {
    "duration": 27,
    "start_time": "2022-12-08T10:15:42.086Z"
   },
   {
    "duration": 21,
    "start_time": "2022-12-08T10:15:42.115Z"
   },
   {
    "duration": 10,
    "start_time": "2022-12-08T10:15:42.138Z"
   },
   {
    "duration": 8,
    "start_time": "2022-12-08T10:15:42.149Z"
   },
   {
    "duration": 298,
    "start_time": "2022-12-08T10:15:42.159Z"
   },
   {
    "duration": 9,
    "start_time": "2022-12-08T10:15:42.459Z"
   },
   {
    "duration": 11,
    "start_time": "2022-12-08T10:15:42.470Z"
   },
   {
    "duration": 23,
    "start_time": "2022-12-08T10:15:42.482Z"
   },
   {
    "duration": 18,
    "start_time": "2022-12-08T10:15:42.507Z"
   },
   {
    "duration": 803,
    "start_time": "2022-12-08T10:15:42.527Z"
   },
   {
    "duration": 5,
    "start_time": "2022-12-08T10:15:43.332Z"
   },
   {
    "duration": 18,
    "start_time": "2022-12-08T10:15:43.338Z"
   },
   {
    "duration": 2063,
    "start_time": "2022-12-08T10:15:43.358Z"
   },
   {
    "duration": 316,
    "start_time": "2022-12-08T10:15:45.423Z"
   },
   {
    "duration": 313,
    "start_time": "2022-12-08T10:15:45.741Z"
   },
   {
    "duration": 5,
    "start_time": "2022-12-08T10:15:46.056Z"
   },
   {
    "duration": 17,
    "start_time": "2022-12-08T10:15:46.063Z"
   },
   {
    "duration": 18,
    "start_time": "2022-12-08T10:15:46.082Z"
   },
   {
    "duration": 18,
    "start_time": "2022-12-08T10:15:46.102Z"
   },
   {
    "duration": 9,
    "start_time": "2022-12-08T10:15:46.122Z"
   },
   {
    "duration": 336,
    "start_time": "2022-12-08T10:15:46.133Z"
   },
   {
    "duration": 11,
    "start_time": "2022-12-08T10:15:46.472Z"
   },
   {
    "duration": 363,
    "start_time": "2022-12-08T10:15:46.485Z"
   },
   {
    "duration": 13,
    "start_time": "2022-12-08T10:15:46.855Z"
   },
   {
    "duration": 406,
    "start_time": "2022-12-08T10:15:46.870Z"
   },
   {
    "duration": 3,
    "start_time": "2022-12-08T10:15:47.278Z"
   },
   {
    "duration": 398,
    "start_time": "2022-12-08T10:15:47.283Z"
   },
   {
    "duration": 384,
    "start_time": "2022-12-08T10:15:47.682Z"
   },
   {
    "duration": 528,
    "start_time": "2022-12-08T10:15:48.068Z"
   },
   {
    "duration": 4,
    "start_time": "2022-12-08T10:15:48.597Z"
   },
   {
    "duration": 23,
    "start_time": "2022-12-08T10:15:48.602Z"
   },
   {
    "duration": 9,
    "start_time": "2022-12-08T10:31:26.070Z"
   },
   {
    "duration": 11,
    "start_time": "2022-12-08T10:31:28.811Z"
   },
   {
    "duration": 4,
    "start_time": "2022-12-08T10:35:56.506Z"
   },
   {
    "duration": 64,
    "start_time": "2022-12-08T10:35:56.511Z"
   },
   {
    "duration": 18,
    "start_time": "2022-12-08T10:35:56.578Z"
   },
   {
    "duration": 20,
    "start_time": "2022-12-08T10:35:56.597Z"
   },
   {
    "duration": 1018,
    "start_time": "2022-12-08T10:35:56.620Z"
   },
   {
    "duration": 17,
    "start_time": "2022-12-08T10:35:57.639Z"
   },
   {
    "duration": 9,
    "start_time": "2022-12-08T10:35:57.658Z"
   },
   {
    "duration": 15,
    "start_time": "2022-12-08T10:35:57.669Z"
   },
   {
    "duration": 13,
    "start_time": "2022-12-08T10:35:57.685Z"
   },
   {
    "duration": 9,
    "start_time": "2022-12-08T10:35:57.700Z"
   },
   {
    "duration": 22,
    "start_time": "2022-12-08T10:35:57.711Z"
   },
   {
    "duration": 7,
    "start_time": "2022-12-08T10:35:57.734Z"
   },
   {
    "duration": 24,
    "start_time": "2022-12-08T10:35:57.743Z"
   },
   {
    "duration": 203,
    "start_time": "2022-12-08T10:35:57.769Z"
   },
   {
    "duration": 10,
    "start_time": "2022-12-08T10:35:57.974Z"
   },
   {
    "duration": 16,
    "start_time": "2022-12-08T10:35:57.986Z"
   },
   {
    "duration": 17,
    "start_time": "2022-12-08T10:35:58.004Z"
   },
   {
    "duration": 11,
    "start_time": "2022-12-08T10:35:58.023Z"
   },
   {
    "duration": 830,
    "start_time": "2022-12-08T10:35:58.037Z"
   },
   {
    "duration": 6,
    "start_time": "2022-12-08T10:35:58.868Z"
   },
   {
    "duration": 10,
    "start_time": "2022-12-08T10:35:58.875Z"
   },
   {
    "duration": 2007,
    "start_time": "2022-12-08T10:35:58.887Z"
   },
   {
    "duration": 362,
    "start_time": "2022-12-08T10:36:00.896Z"
   },
   {
    "duration": 327,
    "start_time": "2022-12-08T10:36:01.260Z"
   },
   {
    "duration": 5,
    "start_time": "2022-12-08T10:36:01.589Z"
   },
   {
    "duration": 35,
    "start_time": "2022-12-08T10:36:01.596Z"
   },
   {
    "duration": 34,
    "start_time": "2022-12-08T10:36:01.633Z"
   },
   {
    "duration": 62,
    "start_time": "2022-12-08T10:36:01.669Z"
   },
   {
    "duration": 56,
    "start_time": "2022-12-08T10:36:01.734Z"
   },
   {
    "duration": 489,
    "start_time": "2022-12-08T10:36:01.791Z"
   },
   {
    "duration": 10,
    "start_time": "2022-12-08T10:36:02.282Z"
   },
   {
    "duration": 350,
    "start_time": "2022-12-08T10:36:02.294Z"
   },
   {
    "duration": 16,
    "start_time": "2022-12-08T10:36:02.646Z"
   },
   {
    "duration": 349,
    "start_time": "2022-12-08T10:36:02.663Z"
   },
   {
    "duration": 3,
    "start_time": "2022-12-08T10:36:03.014Z"
   },
   {
    "duration": 400,
    "start_time": "2022-12-08T10:36:03.019Z"
   },
   {
    "duration": 406,
    "start_time": "2022-12-08T10:36:03.421Z"
   },
   {
    "duration": 403,
    "start_time": "2022-12-08T10:36:03.829Z"
   },
   {
    "duration": 4,
    "start_time": "2022-12-08T10:36:04.234Z"
   },
   {
    "duration": 31,
    "start_time": "2022-12-08T10:36:04.240Z"
   },
   {
    "duration": 8,
    "start_time": "2022-12-08T10:36:04.273Z"
   },
   {
    "duration": 12,
    "start_time": "2022-12-08T10:36:04.282Z"
   },
   {
    "duration": 1161,
    "start_time": "2022-12-08T15:31:06.854Z"
   },
   {
    "duration": 108,
    "start_time": "2022-12-08T15:31:08.018Z"
   },
   {
    "duration": 23,
    "start_time": "2022-12-08T15:31:08.128Z"
   },
   {
    "duration": 18,
    "start_time": "2022-12-08T15:31:08.153Z"
   },
   {
    "duration": 1052,
    "start_time": "2022-12-08T15:31:08.174Z"
   },
   {
    "duration": 17,
    "start_time": "2022-12-08T15:31:09.229Z"
   },
   {
    "duration": 22,
    "start_time": "2022-12-08T15:31:09.248Z"
   },
   {
    "duration": 28,
    "start_time": "2022-12-08T15:31:09.272Z"
   },
   {
    "duration": 37,
    "start_time": "2022-12-08T15:31:09.302Z"
   },
   {
    "duration": 15,
    "start_time": "2022-12-08T15:31:09.342Z"
   },
   {
    "duration": 24,
    "start_time": "2022-12-08T15:31:09.359Z"
   },
   {
    "duration": 28,
    "start_time": "2022-12-08T15:31:09.385Z"
   },
   {
    "duration": 18,
    "start_time": "2022-12-08T15:31:09.415Z"
   },
   {
    "duration": 189,
    "start_time": "2022-12-08T15:31:09.435Z"
   },
   {
    "duration": 8,
    "start_time": "2022-12-08T15:31:09.625Z"
   },
   {
    "duration": 16,
    "start_time": "2022-12-08T15:31:09.635Z"
   },
   {
    "duration": 20,
    "start_time": "2022-12-08T15:31:09.653Z"
   },
   {
    "duration": 26,
    "start_time": "2022-12-08T15:31:09.675Z"
   },
   {
    "duration": 953,
    "start_time": "2022-12-08T15:31:09.703Z"
   },
   {
    "duration": 5,
    "start_time": "2022-12-08T15:31:10.658Z"
   },
   {
    "duration": 27,
    "start_time": "2022-12-08T15:31:10.665Z"
   },
   {
    "duration": 2027,
    "start_time": "2022-12-08T15:31:10.693Z"
   },
   {
    "duration": 340,
    "start_time": "2022-12-08T15:31:12.722Z"
   },
   {
    "duration": 332,
    "start_time": "2022-12-08T15:31:13.064Z"
   },
   {
    "duration": 15,
    "start_time": "2022-12-08T15:31:13.399Z"
   },
   {
    "duration": 11,
    "start_time": "2022-12-08T15:31:13.416Z"
   },
   {
    "duration": 21,
    "start_time": "2022-12-08T15:31:13.429Z"
   },
   {
    "duration": 14,
    "start_time": "2022-12-08T15:31:13.453Z"
   },
   {
    "duration": 3,
    "start_time": "2022-12-08T15:31:13.468Z"
   },
   {
    "duration": 369,
    "start_time": "2022-12-08T15:31:13.473Z"
   },
   {
    "duration": 13,
    "start_time": "2022-12-08T15:31:13.844Z"
   },
   {
    "duration": 396,
    "start_time": "2022-12-08T15:31:13.859Z"
   },
   {
    "duration": 12,
    "start_time": "2022-12-08T15:31:14.257Z"
   },
   {
    "duration": 360,
    "start_time": "2022-12-08T15:31:14.271Z"
   },
   {
    "duration": 2,
    "start_time": "2022-12-08T15:31:14.633Z"
   },
   {
    "duration": 467,
    "start_time": "2022-12-08T15:31:14.637Z"
   },
   {
    "duration": 388,
    "start_time": "2022-12-08T15:31:15.105Z"
   },
   {
    "duration": 490,
    "start_time": "2022-12-08T15:31:15.495Z"
   },
   {
    "duration": 4,
    "start_time": "2022-12-08T15:31:15.987Z"
   },
   {
    "duration": 32,
    "start_time": "2022-12-08T15:31:15.992Z"
   },
   {
    "duration": 9,
    "start_time": "2022-12-08T15:31:16.026Z"
   },
   {
    "duration": 10,
    "start_time": "2022-12-08T15:31:16.037Z"
   },
   {
    "duration": 1133,
    "start_time": "2022-12-08T15:45:28.264Z"
   },
   {
    "duration": 52,
    "start_time": "2022-12-08T15:45:29.400Z"
   },
   {
    "duration": 21,
    "start_time": "2022-12-08T15:45:29.454Z"
   },
   {
    "duration": 16,
    "start_time": "2022-12-08T15:45:29.478Z"
   },
   {
    "duration": 1030,
    "start_time": "2022-12-08T15:45:29.496Z"
   },
   {
    "duration": 17,
    "start_time": "2022-12-08T15:45:30.527Z"
   },
   {
    "duration": 38,
    "start_time": "2022-12-08T15:45:30.546Z"
   },
   {
    "duration": 37,
    "start_time": "2022-12-08T15:45:30.586Z"
   },
   {
    "duration": 35,
    "start_time": "2022-12-08T15:45:30.625Z"
   },
   {
    "duration": 12,
    "start_time": "2022-12-08T15:45:30.662Z"
   },
   {
    "duration": 38,
    "start_time": "2022-12-08T15:45:30.676Z"
   },
   {
    "duration": 13,
    "start_time": "2022-12-08T15:45:30.716Z"
   },
   {
    "duration": 11,
    "start_time": "2022-12-08T15:45:30.731Z"
   },
   {
    "duration": 214,
    "start_time": "2022-12-08T15:45:30.745Z"
   },
   {
    "duration": 8,
    "start_time": "2022-12-08T15:45:30.961Z"
   },
   {
    "duration": 33,
    "start_time": "2022-12-08T15:45:30.971Z"
   },
   {
    "duration": 23,
    "start_time": "2022-12-08T15:45:31.006Z"
   },
   {
    "duration": 29,
    "start_time": "2022-12-08T15:45:31.031Z"
   },
   {
    "duration": 933,
    "start_time": "2022-12-08T15:45:31.062Z"
   },
   {
    "duration": 15,
    "start_time": "2022-12-08T15:45:31.997Z"
   },
   {
    "duration": 5,
    "start_time": "2022-12-08T15:45:32.014Z"
   },
   {
    "duration": 2062,
    "start_time": "2022-12-08T15:45:32.021Z"
   },
   {
    "duration": 373,
    "start_time": "2022-12-08T15:45:34.085Z"
   },
   {
    "duration": 329,
    "start_time": "2022-12-08T15:45:34.460Z"
   },
   {
    "duration": 6,
    "start_time": "2022-12-08T15:45:34.791Z"
   },
   {
    "duration": 12,
    "start_time": "2022-12-08T15:45:34.813Z"
   },
   {
    "duration": 18,
    "start_time": "2022-12-08T15:45:34.827Z"
   },
   {
    "duration": 15,
    "start_time": "2022-12-08T15:45:34.847Z"
   },
   {
    "duration": 4,
    "start_time": "2022-12-08T15:45:34.864Z"
   },
   {
    "duration": 391,
    "start_time": "2022-12-08T15:45:34.870Z"
   },
   {
    "duration": 13,
    "start_time": "2022-12-08T15:45:35.264Z"
   },
   {
    "duration": 377,
    "start_time": "2022-12-08T15:45:35.279Z"
   },
   {
    "duration": 11,
    "start_time": "2022-12-08T15:45:35.658Z"
   },
   {
    "duration": 352,
    "start_time": "2022-12-08T15:45:35.670Z"
   },
   {
    "duration": 2,
    "start_time": "2022-12-08T15:45:36.024Z"
   },
   {
    "duration": 447,
    "start_time": "2022-12-08T15:45:36.028Z"
   },
   {
    "duration": 431,
    "start_time": "2022-12-08T15:45:36.477Z"
   },
   {
    "duration": 502,
    "start_time": "2022-12-08T15:45:36.911Z"
   },
   {
    "duration": 4,
    "start_time": "2022-12-08T15:45:37.415Z"
   },
   {
    "duration": 22,
    "start_time": "2022-12-08T15:45:37.421Z"
   },
   {
    "duration": 10,
    "start_time": "2022-12-08T15:45:37.446Z"
   },
   {
    "duration": 13,
    "start_time": "2022-12-08T15:45:37.458Z"
   },
   {
    "duration": 53,
    "start_time": "2022-12-08T16:58:51.452Z"
   },
   {
    "duration": 1416,
    "start_time": "2022-12-08T16:58:55.607Z"
   },
   {
    "duration": 203,
    "start_time": "2022-12-08T16:58:57.025Z"
   },
   {
    "duration": 22,
    "start_time": "2022-12-08T16:58:57.229Z"
   },
   {
    "duration": 17,
    "start_time": "2022-12-08T16:58:57.253Z"
   },
   {
    "duration": 1022,
    "start_time": "2022-12-08T16:58:57.271Z"
   },
   {
    "duration": 16,
    "start_time": "2022-12-08T16:58:58.295Z"
   },
   {
    "duration": 7,
    "start_time": "2022-12-08T16:58:58.312Z"
   },
   {
    "duration": 8,
    "start_time": "2022-12-08T16:58:58.320Z"
   },
   {
    "duration": 22,
    "start_time": "2022-12-08T16:58:58.329Z"
   },
   {
    "duration": 9,
    "start_time": "2022-12-08T16:58:58.353Z"
   },
   {
    "duration": 17,
    "start_time": "2022-12-08T16:58:58.364Z"
   },
   {
    "duration": 7,
    "start_time": "2022-12-08T16:58:58.383Z"
   },
   {
    "duration": 7,
    "start_time": "2022-12-08T16:58:58.392Z"
   },
   {
    "duration": 201,
    "start_time": "2022-12-08T16:58:58.452Z"
   },
   {
    "duration": 8,
    "start_time": "2022-12-08T16:58:58.655Z"
   },
   {
    "duration": 10,
    "start_time": "2022-12-08T16:58:58.665Z"
   },
   {
    "duration": 9,
    "start_time": "2022-12-08T16:58:58.677Z"
   },
   {
    "duration": 11,
    "start_time": "2022-12-08T16:58:58.687Z"
   },
   {
    "duration": 1157,
    "start_time": "2022-12-08T16:58:58.699Z"
   },
   {
    "duration": 11,
    "start_time": "2022-12-08T16:58:59.859Z"
   },
   {
    "duration": 18,
    "start_time": "2022-12-08T16:58:59.872Z"
   },
   {
    "duration": 2201,
    "start_time": "2022-12-08T16:58:59.892Z"
   },
   {
    "duration": 338,
    "start_time": "2022-12-08T16:59:02.095Z"
   },
   {
    "duration": 355,
    "start_time": "2022-12-08T16:59:02.436Z"
   },
   {
    "duration": 5,
    "start_time": "2022-12-08T16:59:02.793Z"
   },
   {
    "duration": 3845,
    "start_time": "2022-12-08T16:59:07.969Z"
   },
   {
    "duration": 347,
    "start_time": "2022-12-08T16:59:37.563Z"
   },
   {
    "duration": 3941,
    "start_time": "2022-12-08T16:59:48.134Z"
   },
   {
    "duration": 1824,
    "start_time": "2022-12-08T17:00:47.099Z"
   },
   {
    "duration": 1947,
    "start_time": "2022-12-08T17:01:02.145Z"
   },
   {
    "duration": 1971,
    "start_time": "2022-12-08T17:01:29.092Z"
   },
   {
    "duration": 1845,
    "start_time": "2022-12-08T17:01:32.008Z"
   },
   {
    "duration": 30,
    "start_time": "2022-12-08T17:03:06.880Z"
   },
   {
    "duration": 38,
    "start_time": "2022-12-08T17:03:30.560Z"
   },
   {
    "duration": 11,
    "start_time": "2022-12-08T17:05:56.602Z"
   },
   {
    "duration": 16,
    "start_time": "2022-12-08T17:17:56.911Z"
   },
   {
    "duration": 23,
    "start_time": "2022-12-08T17:17:59.805Z"
   },
   {
    "duration": 15,
    "start_time": "2022-12-08T17:18:05.507Z"
   },
   {
    "duration": 4,
    "start_time": "2022-12-08T17:18:12.223Z"
   },
   {
    "duration": 59,
    "start_time": "2022-12-08T17:18:12.229Z"
   },
   {
    "duration": 18,
    "start_time": "2022-12-08T17:18:12.289Z"
   },
   {
    "duration": 17,
    "start_time": "2022-12-08T17:18:12.310Z"
   },
   {
    "duration": 1155,
    "start_time": "2022-12-08T17:18:12.329Z"
   },
   {
    "duration": 17,
    "start_time": "2022-12-08T17:18:13.486Z"
   },
   {
    "duration": 6,
    "start_time": "2022-12-08T17:18:13.505Z"
   },
   {
    "duration": 6,
    "start_time": "2022-12-08T17:18:13.513Z"
   },
   {
    "duration": 37,
    "start_time": "2022-12-08T17:18:13.521Z"
   },
   {
    "duration": 9,
    "start_time": "2022-12-08T17:18:13.560Z"
   },
   {
    "duration": 23,
    "start_time": "2022-12-08T17:18:13.571Z"
   },
   {
    "duration": 6,
    "start_time": "2022-12-08T17:18:13.596Z"
   },
   {
    "duration": 7,
    "start_time": "2022-12-08T17:18:13.604Z"
   },
   {
    "duration": 267,
    "start_time": "2022-12-08T17:18:13.613Z"
   },
   {
    "duration": 8,
    "start_time": "2022-12-08T17:18:13.882Z"
   },
   {
    "duration": 14,
    "start_time": "2022-12-08T17:18:13.891Z"
   },
   {
    "duration": 13,
    "start_time": "2022-12-08T17:18:13.907Z"
   },
   {
    "duration": 14,
    "start_time": "2022-12-08T17:18:13.922Z"
   },
   {
    "duration": 904,
    "start_time": "2022-12-08T17:18:13.938Z"
   },
   {
    "duration": 6,
    "start_time": "2022-12-08T17:18:14.851Z"
   },
   {
    "duration": 10,
    "start_time": "2022-12-08T17:18:14.859Z"
   },
   {
    "duration": 2233,
    "start_time": "2022-12-08T17:18:14.871Z"
   },
   {
    "duration": 350,
    "start_time": "2022-12-08T17:18:17.106Z"
   },
   {
    "duration": 344,
    "start_time": "2022-12-08T17:18:17.459Z"
   },
   {
    "duration": 5,
    "start_time": "2022-12-08T17:18:17.805Z"
   },
   {
    "duration": 1858,
    "start_time": "2022-12-08T17:18:17.811Z"
   },
   {
    "duration": 1856,
    "start_time": "2022-12-08T17:18:19.671Z"
   },
   {
    "duration": 36,
    "start_time": "2022-12-08T17:18:21.529Z"
   },
   {
    "duration": 10,
    "start_time": "2022-12-08T17:18:21.567Z"
   },
   {
    "duration": 13,
    "start_time": "2022-12-08T17:18:21.579Z"
   },
   {
    "duration": 15,
    "start_time": "2022-12-08T17:18:24.085Z"
   },
   {
    "duration": 18,
    "start_time": "2022-12-08T17:18:32.245Z"
   },
   {
    "duration": 14,
    "start_time": "2022-12-08T17:18:35.437Z"
   },
   {
    "duration": 16,
    "start_time": "2022-12-08T17:18:38.179Z"
   },
   {
    "duration": 13,
    "start_time": "2022-12-08T17:18:42.216Z"
   },
   {
    "duration": 18,
    "start_time": "2022-12-08T17:18:45.168Z"
   },
   {
    "duration": 10,
    "start_time": "2022-12-08T17:18:48.632Z"
   },
   {
    "duration": 10,
    "start_time": "2022-12-08T17:19:06.237Z"
   },
   {
    "duration": 13,
    "start_time": "2022-12-08T17:19:10.006Z"
   },
   {
    "duration": 12,
    "start_time": "2022-12-08T17:19:16.006Z"
   },
   {
    "duration": 10,
    "start_time": "2022-12-08T17:19:26.032Z"
   },
   {
    "duration": 12,
    "start_time": "2022-12-08T17:19:53.431Z"
   },
   {
    "duration": 8,
    "start_time": "2022-12-08T17:20:32.548Z"
   },
   {
    "duration": 9,
    "start_time": "2022-12-08T17:20:37.158Z"
   },
   {
    "duration": 20,
    "start_time": "2022-12-08T17:21:00.670Z"
   },
   {
    "duration": 12,
    "start_time": "2022-12-08T17:21:21.525Z"
   },
   {
    "duration": 13,
    "start_time": "2022-12-08T17:21:25.860Z"
   },
   {
    "duration": 8,
    "start_time": "2022-12-08T17:21:46.249Z"
   },
   {
    "duration": 16,
    "start_time": "2022-12-08T17:21:49.613Z"
   },
   {
    "duration": 14,
    "start_time": "2022-12-08T17:22:01.964Z"
   },
   {
    "duration": 73,
    "start_time": "2022-12-08T17:23:43.807Z"
   },
   {
    "duration": 13,
    "start_time": "2022-12-08T17:23:48.528Z"
   },
   {
    "duration": 16,
    "start_time": "2022-12-08T17:23:57.145Z"
   },
   {
    "duration": 15,
    "start_time": "2022-12-08T17:24:05.418Z"
   },
   {
    "duration": 12,
    "start_time": "2022-12-08T17:24:20.571Z"
   },
   {
    "duration": 8,
    "start_time": "2022-12-08T17:24:45.569Z"
   },
   {
    "duration": 6,
    "start_time": "2022-12-08T17:24:50.876Z"
   },
   {
    "duration": 10,
    "start_time": "2022-12-08T17:24:54.799Z"
   },
   {
    "duration": 8,
    "start_time": "2022-12-08T17:24:58.825Z"
   },
   {
    "duration": 5,
    "start_time": "2022-12-08T17:25:09.213Z"
   },
   {
    "duration": 10,
    "start_time": "2022-12-08T17:25:18.454Z"
   },
   {
    "duration": 10,
    "start_time": "2022-12-08T17:25:26.793Z"
   },
   {
    "duration": 11,
    "start_time": "2022-12-08T17:26:02.845Z"
   },
   {
    "duration": 10,
    "start_time": "2022-12-08T17:26:07.376Z"
   },
   {
    "duration": 12,
    "start_time": "2022-12-08T17:26:07.904Z"
   },
   {
    "duration": 5,
    "start_time": "2022-12-08T17:26:12.072Z"
   },
   {
    "duration": 262,
    "start_time": "2022-12-08T17:26:12.331Z"
   },
   {
    "duration": 12,
    "start_time": "2022-12-08T17:26:31.838Z"
   },
   {
    "duration": 14,
    "start_time": "2022-12-08T17:26:33.178Z"
   },
   {
    "duration": 5,
    "start_time": "2022-12-08T17:26:35.129Z"
   },
   {
    "duration": 346,
    "start_time": "2022-12-08T17:26:40.135Z"
   },
   {
    "duration": 242,
    "start_time": "2022-12-08T17:26:57.098Z"
   },
   {
    "duration": 465,
    "start_time": "2022-12-08T17:30:17.809Z"
   },
   {
    "duration": 362,
    "start_time": "2022-12-08T17:30:43.334Z"
   },
   {
    "duration": 283,
    "start_time": "2022-12-08T17:30:57.982Z"
   },
   {
    "duration": 11,
    "start_time": "2022-12-08T17:31:21.795Z"
   },
   {
    "duration": 3,
    "start_time": "2022-12-08T17:31:23.155Z"
   },
   {
    "duration": 265,
    "start_time": "2022-12-08T17:31:24.237Z"
   },
   {
    "duration": 262,
    "start_time": "2022-12-08T17:31:45.146Z"
   },
   {
    "duration": 270,
    "start_time": "2022-12-08T17:31:49.418Z"
   },
   {
    "duration": 178,
    "start_time": "2022-12-08T17:31:54.766Z"
   },
   {
    "duration": 181,
    "start_time": "2022-12-08T17:31:58.792Z"
   },
   {
    "duration": 256,
    "start_time": "2022-12-08T17:32:02.457Z"
   },
   {
    "duration": 74,
    "start_time": "2022-12-08T17:32:15.472Z"
   },
   {
    "duration": 255,
    "start_time": "2022-12-08T17:32:17.777Z"
   },
   {
    "duration": 4,
    "start_time": "2022-12-08T17:32:32.060Z"
   },
   {
    "duration": 7,
    "start_time": "2022-12-08T17:32:39.186Z"
   },
   {
    "duration": 260,
    "start_time": "2022-12-08T17:33:02.939Z"
   },
   {
    "duration": 4,
    "start_time": "2022-12-08T17:33:51.892Z"
   },
   {
    "duration": 336,
    "start_time": "2022-12-08T17:34:45.669Z"
   },
   {
    "duration": 268,
    "start_time": "2022-12-08T17:55:33.882Z"
   },
   {
    "duration": 235,
    "start_time": "2022-12-08T17:55:51.735Z"
   },
   {
    "duration": 322,
    "start_time": "2022-12-08T17:58:59.685Z"
   },
   {
    "duration": 298,
    "start_time": "2022-12-08T17:59:00.455Z"
   },
   {
    "duration": 286,
    "start_time": "2022-12-08T17:59:00.755Z"
   },
   {
    "duration": 257,
    "start_time": "2022-12-08T17:59:20.580Z"
   },
   {
    "duration": 264,
    "start_time": "2022-12-08T17:59:20.954Z"
   },
   {
    "duration": 262,
    "start_time": "2022-12-08T17:59:23.205Z"
   },
   {
    "duration": 86,
    "start_time": "2022-12-08T18:00:41.207Z"
   },
   {
    "duration": 4,
    "start_time": "2022-12-08T18:34:46.173Z"
   },
   {
    "duration": 56,
    "start_time": "2022-12-08T18:34:46.179Z"
   },
   {
    "duration": 18,
    "start_time": "2022-12-08T18:34:46.237Z"
   },
   {
    "duration": 26,
    "start_time": "2022-12-08T18:34:46.257Z"
   },
   {
    "duration": 1169,
    "start_time": "2022-12-08T18:34:46.285Z"
   },
   {
    "duration": 16,
    "start_time": "2022-12-08T18:34:47.456Z"
   },
   {
    "duration": 9,
    "start_time": "2022-12-08T18:34:47.474Z"
   },
   {
    "duration": 7,
    "start_time": "2022-12-08T18:34:47.485Z"
   },
   {
    "duration": 13,
    "start_time": "2022-12-08T18:34:47.494Z"
   },
   {
    "duration": 8,
    "start_time": "2022-12-08T18:34:47.509Z"
   },
   {
    "duration": 40,
    "start_time": "2022-12-08T18:34:47.520Z"
   },
   {
    "duration": 5,
    "start_time": "2022-12-08T18:34:47.561Z"
   },
   {
    "duration": 4,
    "start_time": "2022-12-08T18:34:47.568Z"
   },
   {
    "duration": 202,
    "start_time": "2022-12-08T18:34:47.574Z"
   },
   {
    "duration": 8,
    "start_time": "2022-12-08T18:34:47.778Z"
   },
   {
    "duration": 4,
    "start_time": "2022-12-08T18:34:47.787Z"
   },
   {
    "duration": 10,
    "start_time": "2022-12-08T18:34:47.793Z"
   },
   {
    "duration": 9,
    "start_time": "2022-12-08T18:34:47.805Z"
   },
   {
    "duration": 860,
    "start_time": "2022-12-08T18:34:47.816Z"
   },
   {
    "duration": 6,
    "start_time": "2022-12-08T18:34:48.677Z"
   },
   {
    "duration": 9,
    "start_time": "2022-12-08T18:34:48.685Z"
   },
   {
    "duration": 2219,
    "start_time": "2022-12-08T18:34:48.696Z"
   },
   {
    "duration": 340,
    "start_time": "2022-12-08T18:34:50.917Z"
   },
   {
    "duration": 475,
    "start_time": "2022-12-08T18:34:51.258Z"
   },
   {
    "duration": 6,
    "start_time": "2022-12-08T18:34:51.735Z"
   },
   {
    "duration": 1675,
    "start_time": "2022-12-08T18:34:51.742Z"
   },
   {
    "duration": 1828,
    "start_time": "2022-12-08T18:34:53.419Z"
   },
   {
    "duration": 30,
    "start_time": "2022-12-08T18:34:55.250Z"
   },
   {
    "duration": 11,
    "start_time": "2022-12-08T18:34:55.283Z"
   },
   {
    "duration": 15,
    "start_time": "2022-12-08T18:34:55.296Z"
   },
   {
    "duration": 289,
    "start_time": "2022-12-08T18:34:55.313Z"
   },
   {
    "duration": 279,
    "start_time": "2022-12-08T18:34:55.604Z"
   },
   {
    "duration": 258,
    "start_time": "2022-12-08T18:34:55.885Z"
   },
   {
    "duration": 292,
    "start_time": "2022-12-08T18:34:56.145Z"
   },
   {
    "duration": 271,
    "start_time": "2022-12-08T18:34:56.439Z"
   },
   {
    "duration": 275,
    "start_time": "2022-12-08T18:34:56.713Z"
   },
   {
    "duration": 5,
    "start_time": "2022-12-08T18:34:56.989Z"
   },
   {
    "duration": 25,
    "start_time": "2022-12-08T18:34:56.996Z"
   },
   {
    "duration": 12,
    "start_time": "2022-12-08T18:34:57.022Z"
   },
   {
    "duration": 10,
    "start_time": "2022-12-08T18:34:57.052Z"
   },
   {
    "duration": 3,
    "start_time": "2022-12-08T18:50:38.973Z"
   },
   {
    "duration": 78,
    "start_time": "2022-12-08T18:50:38.978Z"
   },
   {
    "duration": 18,
    "start_time": "2022-12-08T18:50:39.058Z"
   },
   {
    "duration": 37,
    "start_time": "2022-12-08T18:50:39.077Z"
   },
   {
    "duration": 1355,
    "start_time": "2022-12-08T18:50:39.117Z"
   },
   {
    "duration": 24,
    "start_time": "2022-12-08T18:50:40.475Z"
   },
   {
    "duration": 9,
    "start_time": "2022-12-08T18:50:40.501Z"
   },
   {
    "duration": 11,
    "start_time": "2022-12-08T18:50:40.511Z"
   },
   {
    "duration": 32,
    "start_time": "2022-12-08T18:50:40.524Z"
   },
   {
    "duration": 11,
    "start_time": "2022-12-08T18:50:40.559Z"
   },
   {
    "duration": 36,
    "start_time": "2022-12-08T18:50:40.575Z"
   },
   {
    "duration": 7,
    "start_time": "2022-12-08T18:50:40.613Z"
   },
   {
    "duration": 7,
    "start_time": "2022-12-08T18:50:40.622Z"
   },
   {
    "duration": 257,
    "start_time": "2022-12-08T18:50:40.631Z"
   },
   {
    "duration": 10,
    "start_time": "2022-12-08T18:50:40.890Z"
   },
   {
    "duration": 4,
    "start_time": "2022-12-08T18:50:40.902Z"
   },
   {
    "duration": 10,
    "start_time": "2022-12-08T18:50:40.909Z"
   },
   {
    "duration": 35,
    "start_time": "2022-12-08T18:50:40.920Z"
   },
   {
    "duration": 945,
    "start_time": "2022-12-08T18:50:40.957Z"
   },
   {
    "duration": 7,
    "start_time": "2022-12-08T18:50:41.904Z"
   },
   {
    "duration": 12,
    "start_time": "2022-12-08T18:50:41.913Z"
   },
   {
    "duration": 2164,
    "start_time": "2022-12-08T18:50:41.927Z"
   },
   {
    "duration": 353,
    "start_time": "2022-12-08T18:50:44.093Z"
   },
   {
    "duration": 472,
    "start_time": "2022-12-08T18:50:44.450Z"
   },
   {
    "duration": 6,
    "start_time": "2022-12-08T18:50:44.924Z"
   },
   {
    "duration": 1660,
    "start_time": "2022-12-08T18:50:44.932Z"
   },
   {
    "duration": 1852,
    "start_time": "2022-12-08T18:50:46.593Z"
   },
   {
    "duration": 32,
    "start_time": "2022-12-08T18:50:48.450Z"
   },
   {
    "duration": 11,
    "start_time": "2022-12-08T18:50:48.487Z"
   },
   {
    "duration": 10,
    "start_time": "2022-12-08T18:50:48.500Z"
   },
   {
    "duration": 276,
    "start_time": "2022-12-08T18:50:48.512Z"
   },
   {
    "duration": 265,
    "start_time": "2022-12-08T18:50:48.790Z"
   },
   {
    "duration": 305,
    "start_time": "2022-12-08T18:50:49.058Z"
   },
   {
    "duration": 292,
    "start_time": "2022-12-08T18:50:49.365Z"
   },
   {
    "duration": 331,
    "start_time": "2022-12-08T18:50:49.660Z"
   },
   {
    "duration": 303,
    "start_time": "2022-12-08T18:50:49.993Z"
   },
   {
    "duration": 5,
    "start_time": "2022-12-08T18:50:50.298Z"
   },
   {
    "duration": 20,
    "start_time": "2022-12-08T18:50:50.305Z"
   },
   {
    "duration": 30,
    "start_time": "2022-12-08T18:50:50.327Z"
   },
   {
    "duration": 8,
    "start_time": "2022-12-08T18:50:50.360Z"
   },
   {
    "duration": 1112,
    "start_time": "2022-12-09T14:26:37.409Z"
   },
   {
    "duration": 52,
    "start_time": "2022-12-09T14:26:38.523Z"
   },
   {
    "duration": 18,
    "start_time": "2022-12-09T14:26:38.577Z"
   },
   {
    "duration": 18,
    "start_time": "2022-12-09T14:26:38.597Z"
   },
   {
    "duration": 957,
    "start_time": "2022-12-09T14:26:38.617Z"
   },
   {
    "duration": 21,
    "start_time": "2022-12-09T14:26:39.576Z"
   },
   {
    "duration": 22,
    "start_time": "2022-12-09T14:26:39.600Z"
   },
   {
    "duration": 6,
    "start_time": "2022-12-09T14:26:39.623Z"
   },
   {
    "duration": 13,
    "start_time": "2022-12-09T14:26:39.630Z"
   },
   {
    "duration": 7,
    "start_time": "2022-12-09T14:26:39.644Z"
   },
   {
    "duration": 17,
    "start_time": "2022-12-09T14:26:39.652Z"
   },
   {
    "duration": 4,
    "start_time": "2022-12-09T14:26:39.671Z"
   },
   {
    "duration": 4,
    "start_time": "2022-12-09T14:26:39.676Z"
   },
   {
    "duration": 179,
    "start_time": "2022-12-09T14:26:39.683Z"
   },
   {
    "duration": 8,
    "start_time": "2022-12-09T14:26:39.863Z"
   },
   {
    "duration": 2,
    "start_time": "2022-12-09T14:26:39.873Z"
   },
   {
    "duration": 31,
    "start_time": "2022-12-09T14:26:39.876Z"
   },
   {
    "duration": 8,
    "start_time": "2022-12-09T14:26:39.909Z"
   },
   {
    "duration": 849,
    "start_time": "2022-12-09T14:26:39.918Z"
   },
   {
    "duration": 5,
    "start_time": "2022-12-09T14:26:40.769Z"
   },
   {
    "duration": 7,
    "start_time": "2022-12-09T14:26:40.775Z"
   },
   {
    "duration": 1871,
    "start_time": "2022-12-09T14:26:40.783Z"
   },
   {
    "duration": 298,
    "start_time": "2022-12-09T14:26:42.656Z"
   },
   {
    "duration": 313,
    "start_time": "2022-12-09T14:26:42.956Z"
   },
   {
    "duration": 5,
    "start_time": "2022-12-09T14:26:43.271Z"
   },
   {
    "duration": 1604,
    "start_time": "2022-12-09T14:26:43.278Z"
   },
   {
    "duration": 1716,
    "start_time": "2022-12-09T14:26:44.883Z"
   },
   {
    "duration": 35,
    "start_time": "2022-12-09T14:26:46.600Z"
   },
   {
    "duration": 10,
    "start_time": "2022-12-09T14:26:46.637Z"
   },
   {
    "duration": 16,
    "start_time": "2022-12-09T14:26:46.648Z"
   },
   {
    "duration": 255,
    "start_time": "2022-12-09T14:26:46.665Z"
   },
   {
    "duration": 258,
    "start_time": "2022-12-09T14:26:46.922Z"
   },
   {
    "duration": 242,
    "start_time": "2022-12-09T14:26:47.182Z"
   },
   {
    "duration": 246,
    "start_time": "2022-12-09T14:26:47.426Z"
   },
   {
    "duration": 262,
    "start_time": "2022-12-09T14:26:47.674Z"
   },
   {
    "duration": 268,
    "start_time": "2022-12-09T14:26:47.939Z"
   },
   {
    "duration": 4,
    "start_time": "2022-12-09T14:26:48.208Z"
   },
   {
    "duration": 22,
    "start_time": "2022-12-09T14:26:48.214Z"
   },
   {
    "duration": 11,
    "start_time": "2022-12-09T14:26:48.238Z"
   },
   {
    "duration": 11,
    "start_time": "2022-12-09T14:26:48.250Z"
   }
  ],
  "kernelspec": {
   "display_name": "Python 3",
   "language": "python",
   "name": "python3"
  },
  "language_info": {
   "codemirror_mode": {
    "name": "ipython",
    "version": 3
   },
   "file_extension": ".py",
   "mimetype": "text/x-python",
   "name": "python",
   "nbconvert_exporter": "python",
   "pygments_lexer": "ipython3",
   "version": "3.9.0"
  },
  "toc": {
   "base_numbering": 1,
   "nav_menu": {},
   "number_sections": true,
   "sideBar": true,
   "skip_h1_title": true,
   "title_cell": "Table of Contents",
   "title_sidebar": "Contents",
   "toc_cell": false,
   "toc_position": {},
   "toc_section_display": true,
   "toc_window_display": false
  }
 },
 "nbformat": 4,
 "nbformat_minor": 5
}
